{
 "cells": [
  {
   "cell_type": "code",
   "execution_count": 91,
   "metadata": {
    "collapsed": true
   },
   "outputs": [
    {
     "name": "stderr",
     "output_type": "stream",
     "text": [
      "/home/christo/opt/anaconda3/envs/datascience/lib/python3.9/site-packages/sklearn/utils/validation.py:70: FutureWarning: Pass threshold=1.5 as keyword args. From version 1.0 (renaming of 0.25) passing these as positional arguments will result in an error\n",
      "  warnings.warn(f\"Pass {args_msg} as keyword args. From version \"\n"
     ]
    },
    {
     "data": {
      "text/plain": "array([[0, 1],\n       [1, 1],\n       [1, 0]])"
     },
     "execution_count": 91,
     "metadata": {},
     "output_type": "execute_result"
    }
   ],
   "source": [
    "import csv\n",
    "import matplotlib.pyplot as plt\n",
    "from scikitplot.plotters import plot_pca_component_variance\n",
    "\n",
    "from shapely.geometry import Point\n",
    "import geopandas as gpd\n",
    "from geopandas import GeoDataFrame\n",
    "from sklearn.cluster import KMeans\n",
    "from sklearn.metrics import confusion_matrix, plot_roc_curve\n",
    "\n",
    "import pandas as pd\n",
    "import numpy as np\n",
    "\n",
    "# https://www.census.gov/programs-surveys/geography/guidance/geo-identifiers.html#:~:text=The%20full%20GEOID%20for%20many,codes%2C%20in%20which%20they%20nest.\n",
    "from sklearn.decomposition import PCA\n",
    "from sklearn.model_selection import train_test_split, cross_val_score, KFold\n",
    "from sklearn.preprocessing import KBinsDiscretizer, Binarizer\n",
    "from sklearn.tree import DecisionTreeClassifier, export_text\n",
    "\n",
    "xformbin = Binarizer(1.5)\n",
    "xformbin.transform(np.array([[0, 7],[3, 2], [12, -3]]))"
   ]
  },
  {
   "cell_type": "code",
   "execution_count": 92,
   "outputs": [],
   "source": [
    "counties = pd.read_csv('data/2020_Gaz_tracts_national.txt', delimiter='\\t', dtype={'GEOID': str}).reindex()\n",
    "counties.columns = [c.strip() for c in counties.columns.to_list()]\n",
    "counties['FIPS_COUNTY'] = counties['GEOID'].apply(lambda x: x[:5])\n",
    "counties = counties[['FIPS_COUNTY', 'GEOID', 'INTPTLAT', 'INTPTLONG']].reindex()\n",
    "counties.FIPS_COUNTY.unique()\n",
    "counties = counties.drop(columns=['GEOID']).groupby('FIPS_COUNTY').agg('mean').reset_index()"
   ],
   "metadata": {
    "collapsed": false,
    "pycharm": {
     "name": "#%%\n"
    }
   }
  },
  {
   "cell_type": "code",
   "execution_count": 93,
   "outputs": [
    {
     "name": "stderr",
     "output_type": "stream",
     "text": [
      "<ipython-input-93-cdf5ea0d9651>:2: DeprecationWarning: `np.str` is a deprecated alias for the builtin `str`. To silence this warning, use `str` by itself. Doing this will not modify any behavior and is safe. If you specifically wanted the numpy scalar type, use `np.str_` here.\n",
      "Deprecated in NumPy 1.20; for more details and guidance: https://numpy.org/devdocs/release/1.20.0-notes.html#deprecations\n",
      "  dtype={'GTCBSAST': np.str, 'GTMETSTA': np.str, 'GTINDVPC': np.str, 'GCFIP': np.str, 'GCTCO': np.str,\n",
      "<ipython-input-93-cdf5ea0d9651>:3: DeprecationWarning: `np.str` is a deprecated alias for the builtin `str`. To silence this warning, use `str` by itself. Doing this will not modify any behavior and is safe. If you specifically wanted the numpy scalar type, use `np.str_` here.\n",
      "Deprecated in NumPy 1.20; for more details and guidance: https://numpy.org/devdocs/release/1.20.0-notes.html#deprecations\n",
      "  'GCTCB': np.str})\n"
     ]
    },
    {
     "name": "stdout",
     "output_type": "stream",
     "text": [
      "columns: ['HRHHID', 'HRMONTH', 'HRYEAR4', 'HURESPLI', 'HUFINAL', 'HULANGCODE', 'HETENURE', 'HEHOUSUT', 'HETELHHD', 'HETELAVL', 'HEPHONEO', 'HEFAMINC', 'HUTYPEA', 'HUTYPB', 'HUTYPC', 'HWHHWGT', 'HRINTSTA', 'HRNUMHOU', 'HRHTYPE', 'HRMIS', 'HUINTTYP', 'HUPRSCNT', 'HRLONGLK', 'HRHHID2', 'HWHHWTLN', 'FILLER', 'HUBUS', 'HUBUSL1', 'HUBUSL2', 'HUBUSL3', 'HUBUSL4', 'GEREG', 'GEDIV', 'GCFIP', 'GCTCB', 'GCTCO', 'GTCBSAST', 'GTMETSTA', 'GTINDVPC', 'GTCBSASZ', 'GCTCS', 'PERRP', 'PEPARENT', 'PRTAGE', 'PRTFAGE', 'PEMARITL', 'PESPOUSE', 'PESEX', 'PEAFEVER', 'PEAFNOW', 'PEEDUCA', 'PTDTRACE', 'PRDTHSP', 'PUCHINHH', 'PULINENO', 'PRFAMNUM', 'PRFAMREL', 'PRFAMTYP', 'PEHSPNON', 'PRMARSTA', 'PRPERTYP', 'PENATVTY', 'PEMNTVTY', 'PEFNTVTY', 'PRCITSHP', 'PRCITFLG', 'PRINUYER', 'PUSLFPRX', 'PEMLR', 'PUWK', 'PUBUS1', 'PUBUS2OT', 'PUBUSCK1', 'PUBUSCK2', 'PUBUSCK3', 'PUBUSCK4', 'PURETOT', 'PUDIS', 'PERET1', 'PUDIS1', 'PUDIS2', 'PUABSOT', 'PULAY', 'PEABSRSN', 'PEABSPDO', 'PEMJOT', 'PEMJNUM', 'PEHRUSL1', 'PEHRUSL2', 'PEHRFTPT', 'PEHRUSLT', 'PEHRWANT', 'PEHRRSN1', 'PEHRRSN2', 'PEHRRSN3', 'PUHROFF1', 'PUHROFF2', 'PUHROT1', 'PUHROT2', 'PEHRACT1', 'PEHRACT2', 'PEHRACTT', 'PEHRAVL', 'PUHRCK1', 'PUHRCK2', 'PUHRCK3', 'PUHRCK4', 'PUHRCK5', 'PUHRCK6', 'PUHRCK7', 'PUHRCK12', 'PULAYDT', 'PULAY6M', 'PELAYAVL', 'PULAYAVR', 'PELAYLK', 'PELAYDUR', 'PELAYFTO', 'PULAYCK1', 'PULAYCK2', 'PULAYCK3', 'PULK', 'PELKM1', 'PULKM2', 'PULKM3', 'PULKM4', 'PULKM5', 'PULKM6', 'PULKDK1', 'PULKDK2', 'PULKDK3', 'PULKDK4', 'PULKDK5', 'PULKDK6', 'PULKPS1', 'PULKPS2', 'PULKPS3', 'PULKPS4', 'PULKPS5', 'PULKPS6', 'PELKAVL', 'PULKAVR', 'PELKLL1O', 'PELKLL2O', 'PELKLWO', 'PELKDUR', 'PELKFTO', 'PEDWWNTO', 'PEDWRSN', 'PEDWLKO', 'PEDWWK', 'PEDW4WK', 'PEDWLKWK', 'PEDWAVL', 'PEDWAVR', 'PUDWCK1', 'PUDWCK2', 'PUDWCK3', 'PUDWCK4', 'PUDWCK5', 'PEJHWKO', 'PUJHDP1O', 'PEJHRSN', 'PEJHWANT', 'PUJHCK1', 'PUJHCK2', 'PRABSREA', 'PRCIVLF', 'PRDISC', 'PREMPHRS', 'PREMPNOT', 'PREXPLF', 'PRFTLF', 'PRHRUSL', 'PRJOBSEA', 'PRPTHRS', 'PRPTREA', 'PRUNEDUR', 'PRUNTYPE', 'PRWKSCH', 'PRWKSTAT', 'PRWNTJOB', 'PUJHCK3', 'PUJHCK4', 'PUJHCK5', 'PUIODP1', 'PUIODP2', 'PUIODP3', 'PEIO1COW', 'PUIO1MFG', 'PEIO2COW', 'PUIO2MFG', 'PUIOCK1', 'PUIOCK2', 'PUIOCK3', 'PRIOELG', 'PRAGNA', 'PRCOW1', 'PRCOW2', 'PRCOWPG', 'PRDTCOW1', 'PRDTCOW2', 'PRDTIND1', 'PRDTIND2', 'PRDTOCC1', 'PRDTOCC2', 'PREMP', 'PRMJIND1', 'PRMJIND2', 'PRMJOCC1', 'PRMJOCC2', 'PRMJOCGR', 'PRNAGPWS', 'PRNAGWS', 'PRSJMJ', 'PRERELG', 'PEERNUOT', 'PEERNPER', 'PEERNRT', 'PEERNHRY', 'PUERNH1C', 'PEERNH2', 'PEERNH1O', 'PRERNHLY', 'PTHR', 'PEERNHRO', 'PRERNWA', 'PTWK', 'PEERN', 'PUERN2', 'PTOT', 'PEERNWKP', 'PEERNLAB', 'PEERNCOV', 'PENLFJH', 'PENLFRET', 'PENLFACT', 'PUNLFCK1', 'PUNLFCK2', 'PESCHENR', 'PESCHFT', 'PESCHLVL', 'PRNLFSCH', 'PWFMWGT', 'PWLGWGT', 'PWORWGT', 'PWSSWGT', 'PWVETWGT', 'PRCHLD', 'PRNMCHLD', 'PXPDEMP1', 'PRWERNAL', 'PRHERNAL', 'HXTENURE', 'HXHOUSUT', 'HXTELHHD', 'HXTELAVL', 'HXPHONEO', 'PXINUSYR', 'PXRRP', 'PXPARENT', 'PXAGE', 'PXMARITL', 'PXSPOUSE', 'PXSEX', 'PXAFWHN1', 'PXAFNOW', 'PXEDUCA', 'PXRACE1', 'PXNATVTY', 'PXMNTVTY', 'PXFNTVTY', 'PXNMEMP1', 'PXHSPNON', 'PXMLR', 'PXRET1', 'PXABSRSN', 'PXABSPDO', 'PXMJOT', 'PXMJNUM', 'PXHRUSL1', 'PXHRUSL2', 'PXHRFTPT', 'PXHRUSLT', 'PXHRWANT', 'PXHRRSN1', 'PXHRRSN2', 'PXHRACT1', 'PXHRACT2', 'PXHRACTT', 'PXHRRSN3', 'PXHRAVL', 'PXLAYAVL', 'PXLAYLK', 'PXLAYDUR', 'PXLAYFTO', 'PXLKM1', 'PXLKAVL', 'PXLKLL1O', 'PXLKLL2O', 'PXLKLWO', 'PXLKDUR', 'PXLKFTO', 'PXDWWNTO', 'PXDWRSN', 'PXDWLKO', 'PXDWWK', 'PXDW4WK', 'PXDWLKWK', 'PXDWAVL', 'PXDWAVR', 'PXJHWKO', 'PXJHRSN', 'PXJHWANT', 'PXIO1COW', 'PXIO1ICD', 'PXIO1OCD', 'PXIO2COW', 'PXIO2ICD', 'PXIO2OCD', 'PXERNUOT', 'PXERNPER', 'PXERNH1O', 'PXERNHRO', 'PXERN', 'PXPDEMP2', 'PXNMEMP2', 'PXERNWKP', 'PXERNRT', 'PXERNHRY', 'PXERNH2', 'PXERNLAB', 'PXERNCOV', 'PXNLFJH', 'PXNLFRET', 'PXNLFACT', 'PXSCHENR', 'PXSCHFT', 'PXSCHLVL', 'QSTNUM', 'OCCURNUM', 'PEDIPGED', 'PEHGCOMP', 'PECYC', 'PXDIPGED', 'PXHGCOMP', 'PXCYC', 'PWCMPWGT', 'PEIO1ICD', 'PEIO1OCD', 'PEIO2ICD', 'PEIO2OCD', 'PRIMIND1', 'PRIMIND2', 'PEAFWHN1', 'PEAFWHN2', 'PEAFWHN3', 'PEAFWHN4', 'PXAFEVER', 'PELNDAD', 'PELNMOM', 'PEDADTYP', 'PEMOMTYP', 'PECOHAB', 'PXLNDAD', 'PXLNMOM', 'PXDADTYP', 'PXMOMTYP', 'PXCOHAB', 'PEDISEAR', 'PEDISEYE', 'PEDISREM', 'PEDISPHY', 'PEDISDRS', 'PEDISOUT', 'PRDISFLG', 'PXDISEAR', 'PXDISEYE', 'PXDISREM', 'PXDISPHY', 'PXDISDRS', 'PXDISOUT', 'HXFAMINC', 'PRDASIAN', 'PEPDEMP1', 'PTNMEMP1', 'PEPDEMP2', 'PTNMEMP2', 'PECERT1', 'PECERT2', 'PECERT3', 'PXCERT1', 'PXCERT2', 'PXCERT3', 'HES1A', 'HES1B', 'HES1C', 'HES1D', 'HETS2O', 'HETS3O', 'HETS4O', 'HETS5O', 'HETS6O', 'HETS7O', 'HETS8O', 'HETS8OU', 'HES8B', 'HETS8CO', 'HETS8DO', 'HES9', 'HESP1', 'HESP21', 'HESP22', 'HESP23', 'HESP24', 'HESP25', 'HESP26', 'HESP27', 'HESP28', 'HESP29', 'HESP210', 'HESP211', 'HESP212', 'HETSP2D', 'HETSP3O', 'HESP3OTC', 'HESP6', 'HESP7', 'HESP7A', 'HESP8', 'HETSP9', 'HESP9TC', 'HESS1', 'HESS2', 'HESSM2', 'HESS3', 'HESSM3', 'HESS4', 'HESSM4', 'HESH2', 'HESHF2', 'HESHM2', 'HETSHMF2', 'HESH3', 'HESHF3', 'HESHM3', 'HETSHMF3', 'HESH4', 'HESHF4', 'HESHM4', 'HETSHMF4', 'HESH5', 'HESHM5', 'HESSH1', 'HESSHF1', 'HESSHM1', 'HETSSHMF1', 'HESS5', 'HESSM5', 'HESS6', 'HESSM6', 'HESH1', 'HESHM1', 'HESSH2', 'HESSHF2', 'HESSHM2', 'HETSSHMF2', 'HESSH3', 'HESSHF3', 'HESSHM3', 'HETSSHMF3', 'HESSH4', 'HESSHF4', 'HESSHM4', 'HETSSHMF4', 'HESSH5', 'HESC1', 'HESC2', 'HESC3', 'HESCF3', 'HESCM3', 'HESC3A', 'HESC4', 'HESCF4', 'HESCM4', 'HHSUPWGT', 'PWSUPWGT', 'HRSUPINT', 'HRPOOR', 'HRFS12CX', 'HRFS12M1', 'HRFS12MD', 'HRFS12M3', 'HRFS12M4', 'HRFS12MC', 'HRFS12M6', 'HRFS12M7', 'HRFS12M8', 'HRFS12M9', 'HRFS12ME', 'HRFS30D1', 'HRFS30D2', 'HRFS30D3', 'HRFS30D4', 'HRFS30D5', 'HRFS30D6', 'HRFS30D7', 'HRFS30D8', 'HRFS30D9', 'HRFS30DE']\n",
      "count: 70871640\n"
     ]
    }
   ],
   "source": [
    "food = pd.read_csv('data/census_december_2019-food-security.csv', encoding='ISO-8859-1',\n",
    "                   dtype={'GTCBSAST': np.str, 'GTMETSTA': np.str, 'GTINDVPC': np.str, 'GCFIP': np.str, 'GCTCO': np.str,\n",
    "                          'GCTCB': np.str})\n",
    "food.columns.to_list()\n",
    "\n",
    "\n",
    "def find_col(s):\n",
    "    return list(filter(lambda x: s.lower() in x.lower(), food.columns))\n",
    "\n",
    "\n",
    "find_col('hrint')\n",
    "print(f\"columns: {food.columns.to_list()}\\ncount: {food.size}\")"
   ],
   "metadata": {
    "collapsed": false,
    "pycharm": {
     "name": "#%%\n"
    }
   }
  },
  {
   "cell_type": "code",
   "execution_count": 94,
   "outputs": [
    {
     "data": {
      "text/plain": "48352120"
     },
     "execution_count": 94,
     "metadata": {},
     "output_type": "execute_result"
    }
   ],
   "source": [
    "food = food[food['HRINTSTA'] == 1]  # get rid of non-interview results\n",
    "food = food.drop(columns=find_col('px'))  # drop 'allocation flag' columns\n",
    "food.size"
   ],
   "metadata": {
    "collapsed": false,
    "pycharm": {
     "name": "#%%\n"
    }
   }
  },
  {
   "cell_type": "markdown",
   "source": [
    "### HRFS12M1\n",
    "indicates total household food security status\n",
    "values:\n",
    "- 1: secure\n",
    "- 2: Low security\n",
    "- 3: very low security\n",
    "- -9: no response\n",
    "\n",
    "### HRFS12MC\n",
    "indicates food security status of children in the household\n",
    "values:\n",
    "- 1: children are food secure\n",
    "- 2: low child food security\n",
    "- 3: very low child food security\n",
    "- -9: no response\n",
    "\n",
    "### HRFS12M8\n",
    "indicates food security status of adults in the household\n",
    "values:\n",
    "- 1: adults are food secure\n",
    "- 2: low adult food security\n",
    "- 3: very low adult food security\n",
    "- -9: no response"
   ],
   "metadata": {
    "collapsed": false
   }
  },
  {
   "cell_type": "code",
   "execution_count": 95,
   "outputs": [
    {
     "data": {
      "text/plain": "             HRHHID  HRMONTH  HRYEAR4  HURESPLI  HUFINAL  HULANGCODE  \\\nFIPS_COUNTY                                                            \n01003           165      165      165       165      165         165   \n01081           134      134      134       134      134         134   \n01097           180      180      180       180      180         180   \n04013          1231     1231     1231      1231     1231        1231   \n04019           280      280      280       280      280         280   \n...             ...      ...      ...       ...      ...         ...   \n55059            43       43       43        43       43          43   \n55073            36       36       36        36       36          36   \n55101            80       80       80        80       80          80   \n55105            62       62       62        62       62          62   \n55139            51       51       51        51       51          51   \n\n             HETENURE  HEHOUSUT  HETELHHD  HETELAVL  ...  HRFS30D1  HRFS30D2  \\\nFIPS_COUNTY                                          ...                       \n01003             165       165       165       165  ...       165       165   \n01081             134       134       134       134  ...       134       134   \n01097             180       180       180       180  ...       180       180   \n04013            1231      1231      1231      1231  ...      1231      1231   \n04019             280       280       280       280  ...       280       280   \n...               ...       ...       ...       ...  ...       ...       ...   \n55059              43        43        43        43  ...        43        43   \n55073              36        36        36        36  ...        36        36   \n55101              80        80        80        80  ...        80        80   \n55105              62        62        62        62  ...        62        62   \n55139              51        51        51        51  ...        51        51   \n\n             HRFS30D3  HRFS30D4  HRFS30D5  HRFS30D6  HRFS30D7  HRFS30D8  \\\nFIPS_COUNTY                                                               \n01003             165       165       165       165       165       165   \n01081             134       134       134       134       134       134   \n01097             180       180       180       180       180       180   \n04013            1231      1231      1231      1231      1231      1231   \n04019             280       280       280       280       280       280   \n...               ...       ...       ...       ...       ...       ...   \n55059              43        43        43        43        43        43   \n55073              36        36        36        36        36        36   \n55101              80        80        80        80        80        80   \n55105              62        62        62        62        62        62   \n55139              51        51        51        51        51        51   \n\n             HRFS30D9  HRFS30DE  \nFIPS_COUNTY                      \n01003             165       165  \n01081             134       134  \n01097             180       180  \n04013            1231      1231  \n04019             280       280  \n...               ...       ...  \n55059              43        43  \n55073              36        36  \n55101              80        80  \n55105              62        62  \n55139              51        51  \n\n[280 rows x 410 columns]",
      "text/html": "<div>\n<style scoped>\n    .dataframe tbody tr th:only-of-type {\n        vertical-align: middle;\n    }\n\n    .dataframe tbody tr th {\n        vertical-align: top;\n    }\n\n    .dataframe thead th {\n        text-align: right;\n    }\n</style>\n<table border=\"1\" class=\"dataframe\">\n  <thead>\n    <tr style=\"text-align: right;\">\n      <th></th>\n      <th>HRHHID</th>\n      <th>HRMONTH</th>\n      <th>HRYEAR4</th>\n      <th>HURESPLI</th>\n      <th>HUFINAL</th>\n      <th>HULANGCODE</th>\n      <th>HETENURE</th>\n      <th>HEHOUSUT</th>\n      <th>HETELHHD</th>\n      <th>HETELAVL</th>\n      <th>...</th>\n      <th>HRFS30D1</th>\n      <th>HRFS30D2</th>\n      <th>HRFS30D3</th>\n      <th>HRFS30D4</th>\n      <th>HRFS30D5</th>\n      <th>HRFS30D6</th>\n      <th>HRFS30D7</th>\n      <th>HRFS30D8</th>\n      <th>HRFS30D9</th>\n      <th>HRFS30DE</th>\n    </tr>\n    <tr>\n      <th>FIPS_COUNTY</th>\n      <th></th>\n      <th></th>\n      <th></th>\n      <th></th>\n      <th></th>\n      <th></th>\n      <th></th>\n      <th></th>\n      <th></th>\n      <th></th>\n      <th></th>\n      <th></th>\n      <th></th>\n      <th></th>\n      <th></th>\n      <th></th>\n      <th></th>\n      <th></th>\n      <th></th>\n      <th></th>\n      <th></th>\n    </tr>\n  </thead>\n  <tbody>\n    <tr>\n      <th>01003</th>\n      <td>165</td>\n      <td>165</td>\n      <td>165</td>\n      <td>165</td>\n      <td>165</td>\n      <td>165</td>\n      <td>165</td>\n      <td>165</td>\n      <td>165</td>\n      <td>165</td>\n      <td>...</td>\n      <td>165</td>\n      <td>165</td>\n      <td>165</td>\n      <td>165</td>\n      <td>165</td>\n      <td>165</td>\n      <td>165</td>\n      <td>165</td>\n      <td>165</td>\n      <td>165</td>\n    </tr>\n    <tr>\n      <th>01081</th>\n      <td>134</td>\n      <td>134</td>\n      <td>134</td>\n      <td>134</td>\n      <td>134</td>\n      <td>134</td>\n      <td>134</td>\n      <td>134</td>\n      <td>134</td>\n      <td>134</td>\n      <td>...</td>\n      <td>134</td>\n      <td>134</td>\n      <td>134</td>\n      <td>134</td>\n      <td>134</td>\n      <td>134</td>\n      <td>134</td>\n      <td>134</td>\n      <td>134</td>\n      <td>134</td>\n    </tr>\n    <tr>\n      <th>01097</th>\n      <td>180</td>\n      <td>180</td>\n      <td>180</td>\n      <td>180</td>\n      <td>180</td>\n      <td>180</td>\n      <td>180</td>\n      <td>180</td>\n      <td>180</td>\n      <td>180</td>\n      <td>...</td>\n      <td>180</td>\n      <td>180</td>\n      <td>180</td>\n      <td>180</td>\n      <td>180</td>\n      <td>180</td>\n      <td>180</td>\n      <td>180</td>\n      <td>180</td>\n      <td>180</td>\n    </tr>\n    <tr>\n      <th>04013</th>\n      <td>1231</td>\n      <td>1231</td>\n      <td>1231</td>\n      <td>1231</td>\n      <td>1231</td>\n      <td>1231</td>\n      <td>1231</td>\n      <td>1231</td>\n      <td>1231</td>\n      <td>1231</td>\n      <td>...</td>\n      <td>1231</td>\n      <td>1231</td>\n      <td>1231</td>\n      <td>1231</td>\n      <td>1231</td>\n      <td>1231</td>\n      <td>1231</td>\n      <td>1231</td>\n      <td>1231</td>\n      <td>1231</td>\n    </tr>\n    <tr>\n      <th>04019</th>\n      <td>280</td>\n      <td>280</td>\n      <td>280</td>\n      <td>280</td>\n      <td>280</td>\n      <td>280</td>\n      <td>280</td>\n      <td>280</td>\n      <td>280</td>\n      <td>280</td>\n      <td>...</td>\n      <td>280</td>\n      <td>280</td>\n      <td>280</td>\n      <td>280</td>\n      <td>280</td>\n      <td>280</td>\n      <td>280</td>\n      <td>280</td>\n      <td>280</td>\n      <td>280</td>\n    </tr>\n    <tr>\n      <th>...</th>\n      <td>...</td>\n      <td>...</td>\n      <td>...</td>\n      <td>...</td>\n      <td>...</td>\n      <td>...</td>\n      <td>...</td>\n      <td>...</td>\n      <td>...</td>\n      <td>...</td>\n      <td>...</td>\n      <td>...</td>\n      <td>...</td>\n      <td>...</td>\n      <td>...</td>\n      <td>...</td>\n      <td>...</td>\n      <td>...</td>\n      <td>...</td>\n      <td>...</td>\n      <td>...</td>\n    </tr>\n    <tr>\n      <th>55059</th>\n      <td>43</td>\n      <td>43</td>\n      <td>43</td>\n      <td>43</td>\n      <td>43</td>\n      <td>43</td>\n      <td>43</td>\n      <td>43</td>\n      <td>43</td>\n      <td>43</td>\n      <td>...</td>\n      <td>43</td>\n      <td>43</td>\n      <td>43</td>\n      <td>43</td>\n      <td>43</td>\n      <td>43</td>\n      <td>43</td>\n      <td>43</td>\n      <td>43</td>\n      <td>43</td>\n    </tr>\n    <tr>\n      <th>55073</th>\n      <td>36</td>\n      <td>36</td>\n      <td>36</td>\n      <td>36</td>\n      <td>36</td>\n      <td>36</td>\n      <td>36</td>\n      <td>36</td>\n      <td>36</td>\n      <td>36</td>\n      <td>...</td>\n      <td>36</td>\n      <td>36</td>\n      <td>36</td>\n      <td>36</td>\n      <td>36</td>\n      <td>36</td>\n      <td>36</td>\n      <td>36</td>\n      <td>36</td>\n      <td>36</td>\n    </tr>\n    <tr>\n      <th>55101</th>\n      <td>80</td>\n      <td>80</td>\n      <td>80</td>\n      <td>80</td>\n      <td>80</td>\n      <td>80</td>\n      <td>80</td>\n      <td>80</td>\n      <td>80</td>\n      <td>80</td>\n      <td>...</td>\n      <td>80</td>\n      <td>80</td>\n      <td>80</td>\n      <td>80</td>\n      <td>80</td>\n      <td>80</td>\n      <td>80</td>\n      <td>80</td>\n      <td>80</td>\n      <td>80</td>\n    </tr>\n    <tr>\n      <th>55105</th>\n      <td>62</td>\n      <td>62</td>\n      <td>62</td>\n      <td>62</td>\n      <td>62</td>\n      <td>62</td>\n      <td>62</td>\n      <td>62</td>\n      <td>62</td>\n      <td>62</td>\n      <td>...</td>\n      <td>62</td>\n      <td>62</td>\n      <td>62</td>\n      <td>62</td>\n      <td>62</td>\n      <td>62</td>\n      <td>62</td>\n      <td>62</td>\n      <td>62</td>\n      <td>62</td>\n    </tr>\n    <tr>\n      <th>55139</th>\n      <td>51</td>\n      <td>51</td>\n      <td>51</td>\n      <td>51</td>\n      <td>51</td>\n      <td>51</td>\n      <td>51</td>\n      <td>51</td>\n      <td>51</td>\n      <td>51</td>\n      <td>...</td>\n      <td>51</td>\n      <td>51</td>\n      <td>51</td>\n      <td>51</td>\n      <td>51</td>\n      <td>51</td>\n      <td>51</td>\n      <td>51</td>\n      <td>51</td>\n      <td>51</td>\n    </tr>\n  </tbody>\n</table>\n<p>280 rows × 410 columns</p>\n</div>"
     },
     "execution_count": 95,
     "metadata": {},
     "output_type": "execute_result"
    }
   ],
   "source": [
    "geo_cols = ['GCFIP', 'GCTCO', 'FIPS_COUNTY']  # GCTCB is mislabeled in the doc as GCTCBSA\n",
    "food_cols = ['HRFS12M1', 'HRFS12MC', 'HRFS12M8']\n",
    "id_cols = ['QSTNUM']\n",
    "\n",
    "# throw out records with no county code\n",
    "food = food[food.GCTCO != '000']\n",
    "food['FIPS_COUNTY'] = food.GCFIP + food.GCTCO\n",
    "\n",
    "food.groupby(['FIPS_COUNTY']).agg('count')"
   ],
   "metadata": {
    "collapsed": false,
    "pycharm": {
     "name": "#%%\n"
    }
   }
  },
  {
   "cell_type": "code",
   "execution_count": 96,
   "outputs": [],
   "source": [
    "y = food['HRFS12M1'].fillna(0).clip(lower=0)"
   ],
   "metadata": {
    "collapsed": false,
    "pycharm": {
     "name": "#%%\n"
    }
   }
  },
  {
   "cell_type": "code",
   "execution_count": 97,
   "outputs": [
    {
     "data": {
      "text/plain": "    HES1A  HES1B  HES1C  HES1D  HES8B  HES9  HESP1  HESP21  HESP22  HESP23  \\\n40      1      1      2      1      2     1      2       0       0       0   \n41      1      1      1      2      3     2      2       0       0       0   \n42      1      1      1      2      3     2      2       0       0       0   \n43      1      1      1      2      3     2      2       0       0       0   \n44      1      1      1      2      3     2      2       0       0       0   \n\n    ...  HESSH5  HESC1  HESC2  HESC3  HESCF3  HESCM3  HESC3A  HESC4  HESCF4  \\\n40  ...       0      0      0      2       0       0       0      2       0   \n41  ...       0      0      0      2       0       0       1      2       0   \n42  ...       0      0      0      2       0       0       1      2       0   \n43  ...       0      0      0      2       0       0       1      2       0   \n44  ...       0      0      0      2       0       0       1      2       0   \n\n    HESCM4  \n40       0  \n41       0  \n42       0  \n43       0  \n44       0  \n\n[5 rows x 71 columns]",
      "text/html": "<div>\n<style scoped>\n    .dataframe tbody tr th:only-of-type {\n        vertical-align: middle;\n    }\n\n    .dataframe tbody tr th {\n        vertical-align: top;\n    }\n\n    .dataframe thead th {\n        text-align: right;\n    }\n</style>\n<table border=\"1\" class=\"dataframe\">\n  <thead>\n    <tr style=\"text-align: right;\">\n      <th></th>\n      <th>HES1A</th>\n      <th>HES1B</th>\n      <th>HES1C</th>\n      <th>HES1D</th>\n      <th>HES8B</th>\n      <th>HES9</th>\n      <th>HESP1</th>\n      <th>HESP21</th>\n      <th>HESP22</th>\n      <th>HESP23</th>\n      <th>...</th>\n      <th>HESSH5</th>\n      <th>HESC1</th>\n      <th>HESC2</th>\n      <th>HESC3</th>\n      <th>HESCF3</th>\n      <th>HESCM3</th>\n      <th>HESC3A</th>\n      <th>HESC4</th>\n      <th>HESCF4</th>\n      <th>HESCM4</th>\n    </tr>\n  </thead>\n  <tbody>\n    <tr>\n      <th>40</th>\n      <td>1</td>\n      <td>1</td>\n      <td>2</td>\n      <td>1</td>\n      <td>2</td>\n      <td>1</td>\n      <td>2</td>\n      <td>0</td>\n      <td>0</td>\n      <td>0</td>\n      <td>...</td>\n      <td>0</td>\n      <td>0</td>\n      <td>0</td>\n      <td>2</td>\n      <td>0</td>\n      <td>0</td>\n      <td>0</td>\n      <td>2</td>\n      <td>0</td>\n      <td>0</td>\n    </tr>\n    <tr>\n      <th>41</th>\n      <td>1</td>\n      <td>1</td>\n      <td>1</td>\n      <td>2</td>\n      <td>3</td>\n      <td>2</td>\n      <td>2</td>\n      <td>0</td>\n      <td>0</td>\n      <td>0</td>\n      <td>...</td>\n      <td>0</td>\n      <td>0</td>\n      <td>0</td>\n      <td>2</td>\n      <td>0</td>\n      <td>0</td>\n      <td>1</td>\n      <td>2</td>\n      <td>0</td>\n      <td>0</td>\n    </tr>\n    <tr>\n      <th>42</th>\n      <td>1</td>\n      <td>1</td>\n      <td>1</td>\n      <td>2</td>\n      <td>3</td>\n      <td>2</td>\n      <td>2</td>\n      <td>0</td>\n      <td>0</td>\n      <td>0</td>\n      <td>...</td>\n      <td>0</td>\n      <td>0</td>\n      <td>0</td>\n      <td>2</td>\n      <td>0</td>\n      <td>0</td>\n      <td>1</td>\n      <td>2</td>\n      <td>0</td>\n      <td>0</td>\n    </tr>\n    <tr>\n      <th>43</th>\n      <td>1</td>\n      <td>1</td>\n      <td>1</td>\n      <td>2</td>\n      <td>3</td>\n      <td>2</td>\n      <td>2</td>\n      <td>0</td>\n      <td>0</td>\n      <td>0</td>\n      <td>...</td>\n      <td>0</td>\n      <td>0</td>\n      <td>0</td>\n      <td>2</td>\n      <td>0</td>\n      <td>0</td>\n      <td>1</td>\n      <td>2</td>\n      <td>0</td>\n      <td>0</td>\n    </tr>\n    <tr>\n      <th>44</th>\n      <td>1</td>\n      <td>1</td>\n      <td>1</td>\n      <td>2</td>\n      <td>3</td>\n      <td>2</td>\n      <td>2</td>\n      <td>0</td>\n      <td>0</td>\n      <td>0</td>\n      <td>...</td>\n      <td>0</td>\n      <td>0</td>\n      <td>0</td>\n      <td>2</td>\n      <td>0</td>\n      <td>0</td>\n      <td>1</td>\n      <td>2</td>\n      <td>0</td>\n      <td>0</td>\n    </tr>\n  </tbody>\n</table>\n<p>5 rows × 71 columns</p>\n</div>"
     },
     "execution_count": 97,
     "metadata": {},
     "output_type": "execute_result"
    }
   ],
   "source": [
    "supp_cols = find_col('HES')\n",
    "X = food.loc[:][supp_cols]\n",
    "for c in supp_cols:\n",
    "    X[c] = X[c].fillna(0)\n",
    "    X[c] = X[c].clip(lower=0)\n",
    "X.iloc[18:23].clip(lower=0)"
   ],
   "metadata": {
    "collapsed": false,
    "pycharm": {
     "name": "#%%\n"
    }
   }
  },
  {
   "cell_type": "code",
   "execution_count": 98,
   "outputs": [],
   "source": [
    "X_train, X_test, y_train, y_test  = train_test_split(X, y, test_size=0.33)"
   ],
   "metadata": {
    "collapsed": false,
    "pycharm": {
     "name": "#%%\n"
    }
   }
  },
  {
   "cell_type": "code",
   "execution_count": 99,
   "outputs": [
    {
     "data": {
      "text/plain": "array([0.49199776, 0.15944527, 0.07737812, 0.07481037, 0.03236046,\n       0.02161338, 0.0174002 ])"
     },
     "execution_count": 99,
     "metadata": {},
     "output_type": "execute_result"
    }
   ],
   "source": [
    "pca = PCA(n_components=7)\n",
    "explain = pca.fit(X_train, y_train)\n",
    "reduced = explain.transform(X_test)\n",
    "explain.explained_variance_ratio_"
   ],
   "metadata": {
    "collapsed": false,
    "pycharm": {
     "name": "#%%\n"
    }
   }
  },
  {
   "cell_type": "code",
   "execution_count": 100,
   "outputs": [
    {
     "name": "stderr",
     "output_type": "stream",
     "text": [
      "/home/christo/opt/anaconda3/envs/datascience/lib/python3.9/site-packages/sklearn/utils/deprecation.py:86: FutureWarning: Function plot_pca_component_variance is deprecated; This will be removed in v0.4.0. Please use scikitplot.decomposition.plot_pca_component_variance instead.\n",
      "  warnings.warn(msg, category=FutureWarning)\n",
      "/home/christo/.local/lib/python3.9/site-packages/matplotlib/text.py:1165: FutureWarning: elementwise comparison failed; returning scalar instead, but in the future will perform elementwise comparison\n",
      "  if s != self._text:\n"
     ]
    },
    {
     "ename": "ValueError",
     "evalue": "The truth value of an array with more than one element is ambiguous. Use a.any() or a.all()",
     "output_type": "error",
     "traceback": [
      "\u001B[0;31m---------------------------------------------------------------------------\u001B[0m",
      "\u001B[0;31mValueError\u001B[0m                                Traceback (most recent call last)",
      "\u001B[0;32m<ipython-input-100-7fe97aaf3f62>\u001B[0m in \u001B[0;36m<module>\u001B[0;34m\u001B[0m\n\u001B[0;32m----> 1\u001B[0;31m \u001B[0mplot_pca_component_variance\u001B[0m\u001B[0;34m(\u001B[0m\u001B[0mexplain\u001B[0m\u001B[0;34m,\u001B[0m \u001B[0mX_test\u001B[0m\u001B[0;34m.\u001B[0m\u001B[0mto_numpy\u001B[0m\u001B[0;34m(\u001B[0m\u001B[0;34m)\u001B[0m\u001B[0;34m,\u001B[0m \u001B[0my_test\u001B[0m\u001B[0;34m.\u001B[0m\u001B[0mto_numpy\u001B[0m\u001B[0;34m(\u001B[0m\u001B[0;34m)\u001B[0m\u001B[0;34m)\u001B[0m\u001B[0;34m\u001B[0m\u001B[0;34m\u001B[0m\u001B[0m\n\u001B[0m",
      "\u001B[0;32m~/opt/anaconda3/envs/datascience/lib/python3.9/site-packages/sklearn/utils/deprecation.py\u001B[0m in \u001B[0;36mwrapped\u001B[0;34m(*args, **kwargs)\u001B[0m\n\u001B[1;32m     85\u001B[0m         \u001B[0;32mdef\u001B[0m \u001B[0mwrapped\u001B[0m\u001B[0;34m(\u001B[0m\u001B[0;34m*\u001B[0m\u001B[0margs\u001B[0m\u001B[0;34m,\u001B[0m \u001B[0;34m**\u001B[0m\u001B[0mkwargs\u001B[0m\u001B[0;34m)\u001B[0m\u001B[0;34m:\u001B[0m\u001B[0;34m\u001B[0m\u001B[0;34m\u001B[0m\u001B[0m\n\u001B[1;32m     86\u001B[0m             \u001B[0mwarnings\u001B[0m\u001B[0;34m.\u001B[0m\u001B[0mwarn\u001B[0m\u001B[0;34m(\u001B[0m\u001B[0mmsg\u001B[0m\u001B[0;34m,\u001B[0m \u001B[0mcategory\u001B[0m\u001B[0;34m=\u001B[0m\u001B[0mFutureWarning\u001B[0m\u001B[0;34m)\u001B[0m\u001B[0;34m\u001B[0m\u001B[0;34m\u001B[0m\u001B[0m\n\u001B[0;32m---> 87\u001B[0;31m             \u001B[0;32mreturn\u001B[0m \u001B[0mfun\u001B[0m\u001B[0;34m(\u001B[0m\u001B[0;34m*\u001B[0m\u001B[0margs\u001B[0m\u001B[0;34m,\u001B[0m \u001B[0;34m**\u001B[0m\u001B[0mkwargs\u001B[0m\u001B[0;34m)\u001B[0m\u001B[0;34m\u001B[0m\u001B[0;34m\u001B[0m\u001B[0m\n\u001B[0m\u001B[1;32m     88\u001B[0m \u001B[0;34m\u001B[0m\u001B[0m\n\u001B[1;32m     89\u001B[0m         \u001B[0mwrapped\u001B[0m\u001B[0;34m.\u001B[0m\u001B[0m__doc__\u001B[0m \u001B[0;34m=\u001B[0m \u001B[0mself\u001B[0m\u001B[0;34m.\u001B[0m\u001B[0m_update_doc\u001B[0m\u001B[0;34m(\u001B[0m\u001B[0mwrapped\u001B[0m\u001B[0;34m.\u001B[0m\u001B[0m__doc__\u001B[0m\u001B[0;34m)\u001B[0m\u001B[0;34m\u001B[0m\u001B[0;34m\u001B[0m\u001B[0m\n",
      "\u001B[0;32m~/opt/anaconda3/envs/datascience/lib/python3.9/site-packages/scikitplot/plotters.py\u001B[0m in \u001B[0;36mplot_pca_component_variance\u001B[0;34m(clf, title, target_explained_variance, ax, figsize, title_fontsize, text_fontsize)\u001B[0m\n\u001B[1;32m   1041\u001B[0m                   fontsize=text_fontsize)\n\u001B[1;32m   1042\u001B[0m     \u001B[0max\u001B[0m\u001B[0;34m.\u001B[0m\u001B[0mset_ylim\u001B[0m\u001B[0;34m(\u001B[0m\u001B[0;34m[\u001B[0m\u001B[0;34m-\u001B[0m\u001B[0;36m0.02\u001B[0m\u001B[0;34m,\u001B[0m \u001B[0;36m1.02\u001B[0m\u001B[0;34m]\u001B[0m\u001B[0;34m)\u001B[0m\u001B[0;34m\u001B[0m\u001B[0;34m\u001B[0m\u001B[0m\n\u001B[0;32m-> 1043\u001B[0;31m     \u001B[0;32mif\u001B[0m \u001B[0midx\u001B[0m \u001B[0;34m<\u001B[0m \u001B[0mlen\u001B[0m\u001B[0;34m(\u001B[0m\u001B[0mcumulative_sum_ratios\u001B[0m\u001B[0;34m)\u001B[0m\u001B[0;34m:\u001B[0m\u001B[0;34m\u001B[0m\u001B[0;34m\u001B[0m\u001B[0m\n\u001B[0m\u001B[1;32m   1044\u001B[0m         ax.plot(idx+1, cumulative_sum_ratios[idx], 'ro',\n\u001B[1;32m   1045\u001B[0m                 \u001B[0mlabel\u001B[0m\u001B[0;34m=\u001B[0m\u001B[0;34m'{0:0.3f} Explained variance ratio for '\u001B[0m\u001B[0;34m\u001B[0m\u001B[0;34m\u001B[0m\u001B[0m\n",
      "\u001B[0;31mValueError\u001B[0m: The truth value of an array with more than one element is ambiguous. Use a.any() or a.all()"
     ]
    },
    {
     "data": {
      "text/plain": "<Figure size 432x288 with 1 Axes>",
      "image/png": "[encoded data removed]"
     },
     "metadata": {
      "needs_background": "light"
     },
     "output_type": "display_data"
    }
   ],
   "source": [
    "plot_pca_component_variance(explain, X_test.to_numpy(), y_test.to_numpy())"
   ],
   "metadata": {
    "collapsed": false,
    "pycharm": {
     "name": "#%%\n"
    }
   }
  },
  {
   "cell_type": "code",
   "execution_count": null,
   "outputs": [],
   "source": [
    "tree = DecisionTreeClassifier(max_features=6,max_depth=10, max_leaf_nodes=10)\n",
    "m = tree.fit(X_train, y_train)\n",
    "m.feature_importances_"
   ],
   "metadata": {
    "collapsed": false,
    "pycharm": {
     "name": "#%%\n"
    }
   }
  },
  {
   "cell_type": "code",
   "execution_count": null,
   "outputs": [],
   "source": [
    "print(export_text(tree)) # [33, 28, 26, 36, 31, 61, 42]"
   ],
   "metadata": {
    "collapsed": false,
    "pycharm": {
     "name": "#%%\n"
    }
   }
  },
  {
   "cell_type": "code",
   "execution_count": null,
   "outputs": [],
   "source": [
    "[X_test.columns[i] for i in [33, 28, 26, 36, 31, 61, 42]]"
   ],
   "metadata": {
    "collapsed": false,
    "pycharm": {
     "name": "#%%\n"
    }
   }
  },
  {
   "cell_type": "code",
   "execution_count": null,
   "outputs": [],
   "source": [
    "kf = KFold(shuffle=True, n_splits=7)\n",
    "score = cross_val_score(tree, X_test, y_test, cv=kf, scoring='accuracy')\n",
    "np.mean(score)"
   ],
   "metadata": {
    "collapsed": false,
    "pycharm": {
     "name": "#%%\n"
    }
   }
  },
  {
   "cell_type": "code",
   "execution_count": null,
   "outputs": [],
   "source": [
    "summary = food.loc[:, id_cols + food_cols + geo_cols]\n",
    "summary = summary.loc[summary['HRFS12M1'] > 0]\n",
    "\n",
    "statuses = {-9: 'no response', -1: 'unknown', 1: 'secure', 2: 'insecure', 3: 'very_insecure'}\n",
    "statuses_adult = {-9: 'no response', -1: 'unknown', 1: 'secure', 2: 'marginally_insecure', 3: 'insecure',\n",
    "                  4: 'very_insecure'}\n",
    "summary.loc[summary['HRFS12M1'] > 1, ['FIPS_COUNTY', 'HRFS12M1']].groupby('FIPS_COUNTY').size().sort_values()"
   ],
   "metadata": {
    "collapsed": false,
    "pycharm": {
     "name": "#%%\n"
    }
   }
  },
  {
   "cell_type": "code",
   "execution_count": null,
   "outputs": [],
   "source": [
    "food['HRFS12M1'].unique()"
   ],
   "metadata": {
    "collapsed": false,
    "pycharm": {
     "name": "#%%\n"
    }
   }
  },
  {
   "cell_type": "code",
   "execution_count": null,
   "outputs": [],
   "source": [
    "fipses = counties['FIPS_COUNTY'].unique()\n",
    "count = 0\n",
    "u = list(summary.FIPS_COUNTY.unique())\n",
    "found = [fips for fips in u if fips in fipses]\n",
    "print(f\"found {len(found)} out of {len(u)} counties\")"
   ],
   "metadata": {
    "collapsed": false,
    "pycharm": {
     "name": "#%%\n"
    }
   }
  },
  {
   "cell_type": "code",
   "execution_count": null,
   "outputs": [],
   "source": [
    "insecure = summary.loc[summary.HRFS12M1 > 1]\n",
    "insecure"
   ],
   "metadata": {
    "collapsed": false,
    "pycharm": {
     "name": "#%%\n"
    }
   }
  },
  {
   "cell_type": "code",
   "execution_count": null,
   "outputs": [],
   "source": [
    "col_names = {'QSTNUM': \"HOUSE_ID\", 'HRFS12M1': 'FOOD_INSECURE_HOUSE', 'HRFS12MC': 'FOOD_INSECURE_CHILDREN',\n",
    "             'HRFS12M8': 'FOOD_INSECURE_ADULTS'}\n",
    "col_trans = {'HRFS12M1': statuses, 'HRFS12MC': statuses, 'HRFS12M8': statuses_adult}\n",
    "c = insecure.loc[:]\n",
    "for fc in food_cols:\n",
    "    c[fc] = c[fc].apply(lambda f: col_trans[fc][f])\n",
    "c = c.rename(columns=col_names)\n",
    "c.drop(columns=['GCFIP', 'GCTCO'], inplace=True)\n",
    "c = c.reset_index(drop=True)\n",
    "c"
   ],
   "metadata": {
    "collapsed": false,
    "pycharm": {
     "name": "#%%\n"
    }
   }
  },
  {
   "cell_type": "code",
   "execution_count": null,
   "outputs": [],
   "source": [
    "t = pd.DataFrame(insecure.FIPS_COUNTY.unique(), columns=['FIPS_COUNTY'])\n",
    "t"
   ],
   "metadata": {
    "collapsed": false,
    "pycharm": {
     "name": "#%%\n"
    }
   }
  },
  {
   "cell_type": "code",
   "execution_count": null,
   "outputs": [],
   "source": [
    "s = c.loc[:]\n",
    "# s.loc[:,['HOUSE_ID','FOOD_INSECURE_HOUSE','FOOD_INSECURE_CHILDREN','FOOD_INSECURE_ADULTS','FIPS_COUNTY']].groupby('HOUSE_ID')\n",
    "s = s.drop_duplicates()\n",
    "s"
   ],
   "metadata": {
    "collapsed": false,
    "pycharm": {
     "name": "#%%\n"
    }
   }
  },
  {
   "cell_type": "code",
   "execution_count": null,
   "outputs": [],
   "source": [
    "r = s.merge(counties).reset_index(drop=True)\n",
    "\n",
    "r.to_csv('data/output/food_insecure_households_geocoded.csv', index=False, header=True, quoting=csv.QUOTE_NONNUMERIC)\n",
    "r"
   ],
   "metadata": {
    "collapsed": false,
    "pycharm": {
     "name": "#%%\n"
    }
   }
  },
  {
   "cell_type": "code",
   "execution_count": null,
   "outputs": [],
   "source": [
    "plotz = r.loc[~r['FOOD_INSECURE_HOUSE'].isin(['unknown', 'secure'])]\n",
    "geometry = [Point(xy) for xy in zip(plotz['INTPTLONG'], plotz['INTPTLAT'])]\n",
    "gdf = GeoDataFrame(plotz, geometry=geometry)\n",
    "\n",
    "#this is a simple map that goes with geopandas\n",
    "world = gpd.read_file(gpd.datasets.get_path('naturalearth_lowres'))\n",
    "cities = gpd.read_file(gpd.datasets.get_path('naturalearth_cities'))\n",
    "dink = gdf.plot(ax=world.plot(figsize=(10, 6)), marker='o', color='red', markersize=15);"
   ],
   "metadata": {
    "collapsed": false,
    "pycharm": {
     "name": "#%%\n"
    }
   }
  },
  {
   "cell_type": "code",
   "execution_count": null,
   "outputs": [],
   "source": [
    "import matplotlib as plt\n",
    "\n",
    "p = r.loc[~r['FOOD_INSECURE_HOUSE'].isin(['unknown', 'secure'])].reset_index()\n",
    "p.plot(kind='scatter', x='INTPTLONG', y='INTPTLAT')"
   ],
   "metadata": {
    "collapsed": false,
    "pycharm": {
     "name": "#%%\n"
    }
   }
  },
  {
   "cell_type": "code",
   "execution_count": null,
   "outputs": [],
   "source": [
    "deserts = pd.read_csv('data/food_access_research_atlas.csv', dtype={'CensusTract': np.str})\n",
    "deserts.drop(['TractSeniors', 'TractWhite', 'TractBlack', 'TractAsian', 'TractNHOPI', 'TractAIAN',\n",
    "              'TractOMultir', 'TractHispanic'], inplace=True, axis=1)\n",
    "deserts['FIPS_CODE'] = deserts['CensusTract'].str.slice(0, 5)\n",
    "deserts.head()"
   ],
   "metadata": {
    "collapsed": false,
    "pycharm": {
     "name": "#%%\n"
    }
   }
  },
  {
   "cell_type": "code",
   "execution_count": null,
   "outputs": [],
   "source": [
    "deserts.groupby('FIPS_CODE').agg('sum')\n",
    "unfound = [n for n in list(deserts['FIPS_CODE'].unique()) if n not in fipses]\n",
    "found_deserts = deserts.loc[~deserts.FIPS_CODE.isin(unfound)]\n",
    "len(found_deserts)"
   ],
   "metadata": {
    "collapsed": false,
    "pycharm": {
     "name": "#%%\n"
    }
   }
  },
  {
   "cell_type": "code",
   "execution_count": null,
   "outputs": [],
   "source": [
    "# arr = r['INTPTLONG','INTPTLAT']\n",
    "# arr\n",
    "r = r.reset_index(drop=True)\n",
    "arr = r.loc[:][['INTPTLAT', 'INTPTLONG']]\n",
    "arr['INTPTLAT'] = arr['INTPTLAT'].astype(np.float64)\n",
    "arr['INTPTLONG'] = arr['INTPTLONG'].astype(np.float64)\n",
    "arr.dtypes"
   ],
   "metadata": {
    "collapsed": false,
    "pycharm": {
     "name": "#%%\n"
    }
   }
  },
  {
   "cell_type": "code",
   "execution_count": null,
   "outputs": [],
   "source": [
    "# from https://stackoverflow.com/questions/19197715/scikit-learn-k-means-elbow-criterion\n",
    "def best_k(points, max_k: int = 15):\n",
    "    return {k: KMeans(n_clusters=k).fit(points).inertia_ for k in range(2, max_k)}\n",
    "errs = best_k(np.array(arr.to_numpy()))\n",
    "plt.figure()\n",
    "plt.plot(list(errs.keys()), list(errs.values()))\n",
    "plt.xlabel(\"K\")\n",
    "plt.ylabel(\"SSE\")\n",
    "plt.show() # shows '6' is optimal"
   ],
   "metadata": {
    "collapsed": false,
    "pycharm": {
     "name": "#%%\n"
    }
   }
  },
  {
   "cell_type": "markdown",
   "source": [
    "#### The above shows that the optimal k is 6 or 7 - I'll choose 7 for the following"
   ],
   "metadata": {
    "collapsed": false,
    "pycharm": {
     "name": "#%% md\n"
    }
   }
  },
  {
   "cell_type": "code",
   "execution_count": null,
   "outputs": [],
   "source": [
    "# plt.scatter(arr.INTPTLONG, arr.INTPTLAT, c=y, alpha=0.33333)\n",
    "\n",
    "km = KMeans(n_clusters=6).fit(arr[['INTPTLONG', 'INTPTLAT']].to_numpy())\n",
    "centroids = km.cluster_centers_\n",
    "clust_geo = [Point(xy) for xy in centroids.tolist()]\n",
    "clust_gdf = GeoDataFrame(centroids, geometry=clust_geo)\n",
    "\n",
    "clust_world = gpd.read_file(gpd.datasets.get_path('naturalearth_lowres'))\n",
    "clusterplot = clust_gdf.plot(ax=clust_world.plot(figsize=(10, 6)), marker='o', c=y, alpha=0.33333, markersize=15);"
   ],
   "metadata": {
    "collapsed": false,
    "pycharm": {
     "name": "#%%\n"
    }
   }
  },
  {
   "cell_type": "code",
   "execution_count": null,
   "outputs": [],
   "source": [
    "located_deserts = found_deserts.merge(counties, left_on='FIPS_CODE', right_on='FIPS_COUNTY')\n",
    "located_deserts"
   ],
   "metadata": {
    "collapsed": false,
    "pycharm": {
     "name": "#%%\n"
    }
   }
  },
  {
   "cell_type": "code",
   "execution_count": null,
   "outputs": [],
   "source": [
    "reduced_deserts = located_deserts[['FIPS_CODE', 'INTPTLONG', 'INTPTLAT']].groupby('FIPS_CODE').mean()\n",
    "desert_points = [Point(xy) for xy in reduced_deserts.to_numpy().tolist()]\n",
    "desert_gdf = GeoDataFrame(geometry=desert_points)\n",
    "desert_gdf.plot(ax=clust_world.plot(figsize=(15, 9)), color='k', marker='o', alpha=0.8, markersize=0.3 )"
   ],
   "metadata": {
    "collapsed": false,
    "pycharm": {
     "name": "#%%\n"
    }
   }
  },
  {
   "cell_type": "code",
   "execution_count": null,
   "outputs": [],
   "source": [],
   "metadata": {
    "collapsed": false,
    "pycharm": {
     "name": "#%%\n"
    }
   }
  }
 ],
 "metadata": {
  "kernelspec": {
   "display_name": "Python 3",
   "language": "python",
   "name": "python3"
  },
  "language_info": {
   "codemirror_mode": {
    "name": "ipython",
    "version": 2
   },
   "file_extension": ".py",
   "mimetype": "text/x-python",
   "name": "python",
   "nbconvert_exporter": "python",
   "pygments_lexer": "ipython2",
   "version": "2.7.6"
  }
 },
 "nbformat": 4,
 "nbformat_minor": 0
}