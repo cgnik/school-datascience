{
 "cells": [
  {
   "cell_type": "code",
   "execution_count": 2,
   "metadata": {
    "collapsed": true,
    "pycharm": {
     "name": "#%%\n"
    }
   },
   "outputs": [
    {
     "data": {
      "text/plain": "   CensusTract    State   County  Urban  POP2010  OHU2010  GroupQuartersFlag  \\\n0   1001020100  Alabama  Autauga      1     1912      693                  0   \n1   1001020200  Alabama  Autauga      1     2170      743                  0   \n2   1001020300  Alabama  Autauga      1     3373     1256                  0   \n3   1001020400  Alabama  Autauga      1     4386     1722                  0   \n4   1001020500  Alabama  Autauga      1    10766     4082                  0   \n\n   NUMGQTRS  PCTGQTRS  LILATracts_1And10  ...  TractSeniors  TractWhite  \\\n0         0  0.000000                  0  ...           221        1622   \n1       181  0.083410                  0  ...           214         888   \n2         0  0.000000                  0  ...           439        2576   \n3         0  0.000000                  0  ...           904        4086   \n4       181  0.016812                  0  ...          1126        8666   \n\n   TractBlack  TractAsian  TractNHOPI  TractAIAN  TractOMultir  TractHispanic  \\\n0         217          14           0         14            45             44   \n1        1217           5           0          5            55             75   \n2         647          17           5         11           117             87   \n3         193          18           4         11            74             85   \n4        1437         296           9         48           310            355   \n\n   TractHUNV  TractSNAP  \n0         26        112  \n1         87        202  \n2        108        120  \n3         19         82  \n4        198        488  \n\n[5 rows x 147 columns]",
      "text/html": "<div>\n<style scoped>\n    .dataframe tbody tr th:only-of-type {\n        vertical-align: middle;\n    }\n\n    .dataframe tbody tr th {\n        vertical-align: top;\n    }\n\n    .dataframe thead th {\n        text-align: right;\n    }\n</style>\n<table border=\"1\" class=\"dataframe\">\n  <thead>\n    <tr style=\"text-align: right;\">\n      <th></th>\n      <th>CensusTract</th>\n      <th>State</th>\n      <th>County</th>\n      <th>Urban</th>\n      <th>POP2010</th>\n      <th>OHU2010</th>\n      <th>GroupQuartersFlag</th>\n      <th>NUMGQTRS</th>\n      <th>PCTGQTRS</th>\n      <th>LILATracts_1And10</th>\n      <th>...</th>\n      <th>TractSeniors</th>\n      <th>TractWhite</th>\n      <th>TractBlack</th>\n      <th>TractAsian</th>\n      <th>TractNHOPI</th>\n      <th>TractAIAN</th>\n      <th>TractOMultir</th>\n      <th>TractHispanic</th>\n      <th>TractHUNV</th>\n      <th>TractSNAP</th>\n    </tr>\n  </thead>\n  <tbody>\n    <tr>\n      <th>0</th>\n      <td>1001020100</td>\n      <td>Alabama</td>\n      <td>Autauga</td>\n      <td>1</td>\n      <td>1912</td>\n      <td>693</td>\n      <td>0</td>\n      <td>0</td>\n      <td>0.000000</td>\n      <td>0</td>\n      <td>...</td>\n      <td>221</td>\n      <td>1622</td>\n      <td>217</td>\n      <td>14</td>\n      <td>0</td>\n      <td>14</td>\n      <td>45</td>\n      <td>44</td>\n      <td>26</td>\n      <td>112</td>\n    </tr>\n    <tr>\n      <th>1</th>\n      <td>1001020200</td>\n      <td>Alabama</td>\n      <td>Autauga</td>\n      <td>1</td>\n      <td>2170</td>\n      <td>743</td>\n      <td>0</td>\n      <td>181</td>\n      <td>0.083410</td>\n      <td>0</td>\n      <td>...</td>\n      <td>214</td>\n      <td>888</td>\n      <td>1217</td>\n      <td>5</td>\n      <td>0</td>\n      <td>5</td>\n      <td>55</td>\n      <td>75</td>\n      <td>87</td>\n      <td>202</td>\n    </tr>\n    <tr>\n      <th>2</th>\n      <td>1001020300</td>\n      <td>Alabama</td>\n      <td>Autauga</td>\n      <td>1</td>\n      <td>3373</td>\n      <td>1256</td>\n      <td>0</td>\n      <td>0</td>\n      <td>0.000000</td>\n      <td>0</td>\n      <td>...</td>\n      <td>439</td>\n      <td>2576</td>\n      <td>647</td>\n      <td>17</td>\n      <td>5</td>\n      <td>11</td>\n      <td>117</td>\n      <td>87</td>\n      <td>108</td>\n      <td>120</td>\n    </tr>\n    <tr>\n      <th>3</th>\n      <td>1001020400</td>\n      <td>Alabama</td>\n      <td>Autauga</td>\n      <td>1</td>\n      <td>4386</td>\n      <td>1722</td>\n      <td>0</td>\n      <td>0</td>\n      <td>0.000000</td>\n      <td>0</td>\n      <td>...</td>\n      <td>904</td>\n      <td>4086</td>\n      <td>193</td>\n      <td>18</td>\n      <td>4</td>\n      <td>11</td>\n      <td>74</td>\n      <td>85</td>\n      <td>19</td>\n      <td>82</td>\n    </tr>\n    <tr>\n      <th>4</th>\n      <td>1001020500</td>\n      <td>Alabama</td>\n      <td>Autauga</td>\n      <td>1</td>\n      <td>10766</td>\n      <td>4082</td>\n      <td>0</td>\n      <td>181</td>\n      <td>0.016812</td>\n      <td>0</td>\n      <td>...</td>\n      <td>1126</td>\n      <td>8666</td>\n      <td>1437</td>\n      <td>296</td>\n      <td>9</td>\n      <td>48</td>\n      <td>310</td>\n      <td>355</td>\n      <td>198</td>\n      <td>488</td>\n    </tr>\n  </tbody>\n</table>\n<p>5 rows × 147 columns</p>\n</div>"
     },
     "execution_count": 2,
     "metadata": {},
     "output_type": "execute_result"
    }
   ],
   "source": [
    "import pandas as pd\n",
    "import numpy as np\n",
    "from sklearn.decomposition import PCA\n",
    "\n",
    "dataset = pd.read_csv('data/food_access_research_atlas.csv')\n",
    "dataset.head()"
   ]
  },
  {
   "cell_type": "code",
   "execution_count": 4,
   "outputs": [
    {
     "data": {
      "text/plain": "         Field                 LongName                        Description\n0  CensusTract             Census tract                Census tract number\n1        State                    State                         State name\n2       County                   County                        County name\n3        Urban              Urban tract               Flag for urban tract\n4      POP2010  Population, tract total  Population count from 2010 census",
      "text/html": "<div>\n<style scoped>\n    .dataframe tbody tr th:only-of-type {\n        vertical-align: middle;\n    }\n\n    .dataframe tbody tr th {\n        vertical-align: top;\n    }\n\n    .dataframe thead th {\n        text-align: right;\n    }\n</style>\n<table border=\"1\" class=\"dataframe\">\n  <thead>\n    <tr style=\"text-align: right;\">\n      <th></th>\n      <th>Field</th>\n      <th>LongName</th>\n      <th>Description</th>\n    </tr>\n  </thead>\n  <tbody>\n    <tr>\n      <th>0</th>\n      <td>CensusTract</td>\n      <td>Census tract</td>\n      <td>Census tract number</td>\n    </tr>\n    <tr>\n      <th>1</th>\n      <td>State</td>\n      <td>State</td>\n      <td>State name</td>\n    </tr>\n    <tr>\n      <th>2</th>\n      <td>County</td>\n      <td>County</td>\n      <td>County name</td>\n    </tr>\n    <tr>\n      <th>3</th>\n      <td>Urban</td>\n      <td>Urban tract</td>\n      <td>Flag for urban tract</td>\n    </tr>\n    <tr>\n      <th>4</th>\n      <td>POP2010</td>\n      <td>Population, tract total</td>\n      <td>Population count from 2010 census</td>\n    </tr>\n  </tbody>\n</table>\n</div>"
     },
     "execution_count": 4,
     "metadata": {},
     "output_type": "execute_result"
    }
   ],
   "source": [
    "dataset_desc = pd.read_csv('data/food_access_variable_lookup.csv')\n",
    "dataset_desc.head()"
   ],
   "metadata": {
    "collapsed": false,
    "pycharm": {
     "name": "#%%\n"
    }
   }
  },
  {
   "cell_type": "code",
   "execution_count": 1,
   "outputs": [
    {
     "ename": "NameError",
     "evalue": "name 'PCA' is not defined",
     "output_type": "error",
     "traceback": [
      "\u001B[0;31m---------------------------------------------------------------------------\u001B[0m",
      "\u001B[0;31mNameError\u001B[0m                                 Traceback (most recent call last)",
      "\u001B[0;32m<ipython-input-1-c9c8c250e9d2>\u001B[0m in \u001B[0;36m<module>\u001B[0;34m\u001B[0m\n\u001B[0;32m----> 1\u001B[0;31m \u001B[0mpca\u001B[0m \u001B[0;34m=\u001B[0m \u001B[0mPCA\u001B[0m\u001B[0;34m(\u001B[0m\u001B[0mn_components\u001B[0m\u001B[0;34m=\u001B[0m\u001B[0;36m10\u001B[0m\u001B[0;34m)\u001B[0m\u001B[0;34m\u001B[0m\u001B[0;34m\u001B[0m\u001B[0m\n\u001B[0m\u001B[1;32m      2\u001B[0m \u001B[0mpca\u001B[0m\u001B[0;34m.\u001B[0m\u001B[0mfit\u001B[0m\u001B[0;34m(\u001B[0m\u001B[0mdataset\u001B[0m\u001B[0;34m)\u001B[0m\u001B[0;34m\u001B[0m\u001B[0;34m\u001B[0m\u001B[0m\n\u001B[1;32m      3\u001B[0m \u001B[0mds\u001B[0m \u001B[0;34m=\u001B[0m \u001B[0mpca\u001B[0m\u001B[0;34m.\u001B[0m\u001B[0mtransform\u001B[0m\u001B[0;34m(\u001B[0m\u001B[0mdataset\u001B[0m\u001B[0;34m)\u001B[0m\u001B[0;34m\u001B[0m\u001B[0;34m\u001B[0m\u001B[0m\n\u001B[1;32m      4\u001B[0m \u001B[0mds\u001B[0m\u001B[0;34m.\u001B[0m\u001B[0mhead\u001B[0m\u001B[0;34m(\u001B[0m\u001B[0;34m)\u001B[0m\u001B[0;34m\u001B[0m\u001B[0;34m\u001B[0m\u001B[0m\n\u001B[1;32m      5\u001B[0m \u001B[0;34m\u001B[0m\u001B[0m\n",
      "\u001B[0;31mNameError\u001B[0m: name 'PCA' is not defined"
     ]
    }
   ],
   "source": [
    "pca = PCA(n_components=10)\n",
    "pca.fit(dataset)\n",
    "ds = pca.transform(dataset)\n",
    "ds.head()"
   ],
   "metadata": {
    "collapsed": false,
    "pycharm": {
     "name": "#%%\n"
    }
   }
  },
  {
   "cell_type": "code",
   "execution_count": null,
   "outputs": [],
   "source": [],
   "metadata": {
    "collapsed": false,
    "pycharm": {
     "name": "#%%\n"
    }
   }
  }
 ],
 "metadata": {
  "kernelspec": {
   "display_name": "Python 3",
   "language": "python",
   "name": "python3"
  },
  "language_info": {
   "codemirror_mode": {
    "name": "ipython",
    "version": 2
   },
   "file_extension": ".py",
   "mimetype": "text/x-python",
   "name": "python",
   "nbconvert_exporter": "python",
   "pygments_lexer": "ipython2",
   "version": "2.7.6"
  }
 },
 "nbformat": 4,
 "nbformat_minor": 0
}