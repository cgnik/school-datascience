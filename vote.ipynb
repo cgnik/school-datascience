{
 "cells": [
  {
   "cell_type": "code",
   "execution_count": 142,
   "metadata": {
    "collapsed": true
   },
   "outputs": [],
   "source": [
    "from enum import Enum, auto\n",
    "import pandas as pd\n",
    "import seaborn as sns\n",
    "import numpy as np\n",
    "\n",
    "file_name = '/home/christo/dev/data/voters/SWVF_sample.txt.gz'\n",
    "sample_size = 1000\n",
    "\n",
    "class ElectionType(Enum):\n",
    "    SPECIAL = auto()\n",
    "    PRIMARY = auto()\n",
    "    GENERAL = auto()"
   ]
  },
  {
   "cell_type": "code",
   "execution_count": 79,
   "outputs": [],
   "source": [
    "cm = lambda x: lambda y: y.startswith(x)  # find matching column names\n",
    "vote = pd.read_csv(file_name, compression='gzip', encoding='ISO-8859-1')"
   ],
   "metadata": {
    "collapsed": false,
    "pycharm": {
     "name": "#%%\n"
    }
   }
  },
  {
   "cell_type": "code",
   "execution_count": 80,
   "outputs": [
    {
     "name": "stdout",
     "output_type": "stream",
     "text": [
      "{'SPECIAL': ['SPECIAL-05/08/2001', 'SPECIAL-05/06/2003', 'SPECIAL-02/08/2005', 'SPECIAL-02/07/2006'], 'PRIMARY': ['PRIMARY-03/07/2000', 'PRIMARY-05/07/2002', 'PRIMARY-03/02/2004', 'PRIMARY-05/03/2005', 'PRIMARY-09/13/2005', 'PRIMARY-05/02/2006', 'PRIMARY-05/08/2007', 'PRIMARY-09/11/2007', 'PRIMARY-11/06/2007', 'PRIMARY-03/04/2008', 'PRIMARY-10/14/2008', 'PRIMARY-05/05/2009', 'PRIMARY-09/08/2009', 'PRIMARY-09/15/2009', 'PRIMARY-09/29/2009', 'PRIMARY-05/04/2010', 'PRIMARY-07/13/2010', 'PRIMARY-09/07/2010', 'PRIMARY-05/03/2011', 'PRIMARY-09/13/2011', 'PRIMARY-03/06/2012', 'PRIMARY-05/07/2013', 'PRIMARY-09/10/2013', 'PRIMARY-10/01/2013', 'PRIMARY-05/06/2014', 'PRIMARY-05/05/2015', 'PRIMARY-09/15/2015', 'PRIMARY-03/15/2016', 'PRIMARY-09/13/2016', 'PRIMARY-05/02/2017', 'PRIMARY-09/12/2017', 'PRIMARY-05/08/2018', 'PRIMARY-05/07/2019', 'PRIMARY-09/10/2019', 'PRIMARY-03/17/2020'], 'GENERAL': ['GENERAL-11/07/2000', 'GENERAL-11/06/2001', 'GENERAL-11/05/2002', 'GENERAL-11/04/2003', 'GENERAL-11/02/2004', 'GENERAL-11/08/2005', 'GENERAL-11/07/2006', 'GENERAL-11/06/2007', 'GENERAL-12/11/2007', 'GENERAL-11/04/2008', 'GENERAL-11/18/2008', 'GENERAL-11/03/2009', 'GENERAL-11/02/2010', 'GENERAL-11/08/2011', 'GENERAL-11/06/2012', 'GENERAL-11/05/2013', 'GENERAL-11/04/2014', 'GENERAL-11/03/2015', 'GENERAL-06/07/2016', 'GENERAL-11/08/2016', 'GENERAL-11/07/2017', 'GENERAL-08/07/2018', 'GENERAL-11/06/2018', 'GENERAL-11/05/2019', 'GENERAL-11/03/2020']}\n"
     ]
    },
    {
     "data": {
      "text/plain": "{'SPECIAL': ['SPECIAL-05/08/2001',\n  'SPECIAL-05/06/2003',\n  'SPECIAL-02/08/2005',\n  'SPECIAL-02/07/2006'],\n 'PRIMARY': ['PRIMARY-03/07/2000',\n  'PRIMARY-05/07/2002',\n  'PRIMARY-03/02/2004',\n  'PRIMARY-05/03/2005',\n  'PRIMARY-09/13/2005',\n  'PRIMARY-05/02/2006',\n  'PRIMARY-05/08/2007',\n  'PRIMARY-09/11/2007',\n  'PRIMARY-11/06/2007',\n  'PRIMARY-03/04/2008',\n  'PRIMARY-10/14/2008',\n  'PRIMARY-05/05/2009',\n  'PRIMARY-09/08/2009',\n  'PRIMARY-09/15/2009',\n  'PRIMARY-09/29/2009',\n  'PRIMARY-05/04/2010',\n  'PRIMARY-07/13/2010',\n  'PRIMARY-09/07/2010',\n  'PRIMARY-05/03/2011',\n  'PRIMARY-09/13/2011',\n  'PRIMARY-03/06/2012',\n  'PRIMARY-05/07/2013',\n  'PRIMARY-09/10/2013',\n  'PRIMARY-10/01/2013',\n  'PRIMARY-05/06/2014',\n  'PRIMARY-05/05/2015',\n  'PRIMARY-09/15/2015',\n  'PRIMARY-03/15/2016',\n  'PRIMARY-09/13/2016',\n  'PRIMARY-05/02/2017',\n  'PRIMARY-09/12/2017',\n  'PRIMARY-05/08/2018',\n  'PRIMARY-05/07/2019',\n  'PRIMARY-09/10/2019',\n  'PRIMARY-03/17/2020'],\n 'GENERAL': ['GENERAL-11/07/2000',\n  'GENERAL-11/06/2001',\n  'GENERAL-11/05/2002',\n  'GENERAL-11/04/2003',\n  'GENERAL-11/02/2004',\n  'GENERAL-11/08/2005',\n  'GENERAL-11/07/2006',\n  'GENERAL-11/06/2007',\n  'GENERAL-12/11/2007',\n  'GENERAL-11/04/2008',\n  'GENERAL-11/18/2008',\n  'GENERAL-11/03/2009',\n  'GENERAL-11/02/2010',\n  'GENERAL-11/08/2011',\n  'GENERAL-11/06/2012',\n  'GENERAL-11/05/2013',\n  'GENERAL-11/04/2014',\n  'GENERAL-11/03/2015',\n  'GENERAL-06/07/2016',\n  'GENERAL-11/08/2016',\n  'GENERAL-11/07/2017',\n  'GENERAL-08/07/2018',\n  'GENERAL-11/06/2018',\n  'GENERAL-11/05/2019',\n  'GENERAL-11/03/2020']}"
     },
     "execution_count": 80,
     "metadata": {},
     "output_type": "execute_result"
    }
   ],
   "source": [
    "elec_cols = {et.name: list(filter(cm(et.name), vote.columns)) for et in ElectionType}\n",
    "print(elec_cols)\n",
    "\n",
    "elec_cols"
   ],
   "metadata": {
    "collapsed": false,
    "pycharm": {
     "name": "#%%\n"
    }
   }
  },
  {
   "cell_type": "code",
   "execution_count": 81,
   "outputs": [
    {
     "name": "stdout",
     "output_type": "stream",
     "text": [
      "GENERAL-11/07/2000: 2816\n",
      "GENERAL-11/06/2001: 1560\n",
      "GENERAL-11/05/2002: 2079\n",
      "GENERAL-11/04/2003: 1553\n",
      "GENERAL-11/02/2004: 3914\n",
      "GENERAL-11/08/2005: 2168\n",
      "GENERAL-11/07/2006: 3044\n",
      "GENERAL-11/06/2007: 1607\n",
      "GENERAL-12/11/2007: 84\n",
      "GENERAL-11/04/2008: 4461\n",
      "GENERAL-11/18/2008: 0\n",
      "GENERAL-11/03/2009: 2613\n",
      "GENERAL-11/02/2010: 3192\n",
      "GENERAL-11/08/2011: 3121\n",
      "GENERAL-11/06/2012: 4852\n",
      "GENERAL-11/05/2013: 1867\n",
      "GENERAL-11/04/2014: 2823\n",
      "GENERAL-11/03/2015: 3017\n",
      "GENERAL-06/07/2016: 28\n",
      "GENERAL-11/08/2016: 5273\n",
      "GENERAL-11/07/2017: 2349\n",
      "GENERAL-08/07/2018: 260\n",
      "GENERAL-11/06/2018: 4399\n",
      "GENERAL-11/05/2019: 2066\n",
      "GENERAL-11/03/2020: 5999\n"
     ]
    }
   ],
   "source": [
    "for c in elec_cols['GENERAL']:\n",
    "    print(f\"{c}: {vote[c].notna().sum()}\")"
   ],
   "metadata": {
    "collapsed": false,
    "pycharm": {
     "name": "#%%\n"
    }
   }
  },
  {
   "cell_type": "code",
   "execution_count": 58,
   "outputs": [
    {
     "data": {
      "text/plain": "array([nan, 'X'], dtype=object)"
     },
     "execution_count": 58,
     "metadata": {},
     "output_type": "execute_result"
    }
   ],
   "source": [
    "vote[elec_cols['GENERAL'][-1]].unique()"
   ],
   "metadata": {
    "collapsed": false,
    "pycharm": {
     "name": "#%%\n"
    }
   }
  },
  {
   "cell_type": "code",
   "execution_count": 64,
   "outputs": [
    {
     "ename": "ValueError",
     "evalue": "could not convert string to float: 'X'",
     "output_type": "error",
     "traceback": [
      "\u001B[0;31m---------------------------------------------------------------------------\u001B[0m",
      "\u001B[0;31mValueError\u001B[0m                                Traceback (most recent call last)",
      "\u001B[0;32m<ipython-input-64-a1f2ca9f4960>\u001B[0m in \u001B[0;36m<module>\u001B[0;34m\u001B[0m\n\u001B[1;32m      2\u001B[0m \u001B[0;32mfrom\u001B[0m \u001B[0msklearn\u001B[0m\u001B[0;34m.\u001B[0m\u001B[0mcluster\u001B[0m \u001B[0;32mimport\u001B[0m \u001B[0mKMeans\u001B[0m\u001B[0;34m\u001B[0m\u001B[0;34m\u001B[0m\u001B[0m\n\u001B[1;32m      3\u001B[0m \u001B[0mcluster\u001B[0m \u001B[0;34m=\u001B[0m \u001B[0mKMeans\u001B[0m\u001B[0;34m(\u001B[0m\u001B[0mn_clusters\u001B[0m\u001B[0;34m=\u001B[0m\u001B[0;36m4\u001B[0m\u001B[0;34m)\u001B[0m\u001B[0;34m\u001B[0m\u001B[0;34m\u001B[0m\u001B[0m\n\u001B[0;32m----> 4\u001B[0;31m \u001B[0mcluster\u001B[0m\u001B[0;34m.\u001B[0m\u001B[0mfit\u001B[0m\u001B[0;34m(\u001B[0m\u001B[0mvote\u001B[0m\u001B[0;34m[\u001B[0m\u001B[0melec_cols\u001B[0m\u001B[0;34m[\u001B[0m\u001B[0;34m'GENERAL'\u001B[0m\u001B[0;34m]\u001B[0m\u001B[0;34m[\u001B[0m\u001B[0;34m:\u001B[0m\u001B[0;34m-\u001B[0m\u001B[0;36m2\u001B[0m\u001B[0;34m]\u001B[0m\u001B[0;34m]\u001B[0m\u001B[0;34m,\u001B[0m \u001B[0mvote\u001B[0m\u001B[0;34m[\u001B[0m\u001B[0melec_cols\u001B[0m\u001B[0;34m[\u001B[0m\u001B[0;34m'GENERAL'\u001B[0m\u001B[0;34m]\u001B[0m\u001B[0;34m[\u001B[0m\u001B[0;34m-\u001B[0m\u001B[0;36m1\u001B[0m\u001B[0;34m]\u001B[0m\u001B[0;34m]\u001B[0m\u001B[0;34m)\u001B[0m\u001B[0;34m\u001B[0m\u001B[0;34m\u001B[0m\u001B[0m\n\u001B[0m",
      "\u001B[0;32m~/opt/anaconda3/envs/datascience/lib/python3.8/site-packages/sklearn/cluster/_kmeans.py\u001B[0m in \u001B[0;36mfit\u001B[0;34m(self, X, y, sample_weight)\u001B[0m\n\u001B[1;32m    977\u001B[0m             \u001B[0mFitted\u001B[0m \u001B[0mestimator\u001B[0m\u001B[0;34m.\u001B[0m\u001B[0;34m\u001B[0m\u001B[0;34m\u001B[0m\u001B[0m\n\u001B[1;32m    978\u001B[0m         \"\"\"\n\u001B[0;32m--> 979\u001B[0;31m         X = self._validate_data(X, accept_sparse='csr',\n\u001B[0m\u001B[1;32m    980\u001B[0m                                 \u001B[0mdtype\u001B[0m\u001B[0;34m=\u001B[0m\u001B[0;34m[\u001B[0m\u001B[0mnp\u001B[0m\u001B[0;34m.\u001B[0m\u001B[0mfloat64\u001B[0m\u001B[0;34m,\u001B[0m \u001B[0mnp\u001B[0m\u001B[0;34m.\u001B[0m\u001B[0mfloat32\u001B[0m\u001B[0;34m]\u001B[0m\u001B[0;34m,\u001B[0m\u001B[0;34m\u001B[0m\u001B[0;34m\u001B[0m\u001B[0m\n\u001B[1;32m    981\u001B[0m                                 \u001B[0morder\u001B[0m\u001B[0;34m=\u001B[0m\u001B[0;34m'C'\u001B[0m\u001B[0;34m,\u001B[0m \u001B[0mcopy\u001B[0m\u001B[0;34m=\u001B[0m\u001B[0mself\u001B[0m\u001B[0;34m.\u001B[0m\u001B[0mcopy_x\u001B[0m\u001B[0;34m,\u001B[0m\u001B[0;34m\u001B[0m\u001B[0;34m\u001B[0m\u001B[0m\n",
      "\u001B[0;32m~/opt/anaconda3/envs/datascience/lib/python3.8/site-packages/sklearn/base.py\u001B[0m in \u001B[0;36m_validate_data\u001B[0;34m(self, X, y, reset, validate_separately, **check_params)\u001B[0m\n\u001B[1;32m    419\u001B[0m             \u001B[0mout\u001B[0m \u001B[0;34m=\u001B[0m \u001B[0mX\u001B[0m\u001B[0;34m\u001B[0m\u001B[0;34m\u001B[0m\u001B[0m\n\u001B[1;32m    420\u001B[0m         \u001B[0;32melif\u001B[0m \u001B[0misinstance\u001B[0m\u001B[0;34m(\u001B[0m\u001B[0my\u001B[0m\u001B[0;34m,\u001B[0m \u001B[0mstr\u001B[0m\u001B[0;34m)\u001B[0m \u001B[0;32mand\u001B[0m \u001B[0my\u001B[0m \u001B[0;34m==\u001B[0m \u001B[0;34m'no_validation'\u001B[0m\u001B[0;34m:\u001B[0m\u001B[0;34m\u001B[0m\u001B[0;34m\u001B[0m\u001B[0m\n\u001B[0;32m--> 421\u001B[0;31m             \u001B[0mX\u001B[0m \u001B[0;34m=\u001B[0m \u001B[0mcheck_array\u001B[0m\u001B[0;34m(\u001B[0m\u001B[0mX\u001B[0m\u001B[0;34m,\u001B[0m \u001B[0;34m**\u001B[0m\u001B[0mcheck_params\u001B[0m\u001B[0;34m)\u001B[0m\u001B[0;34m\u001B[0m\u001B[0;34m\u001B[0m\u001B[0m\n\u001B[0m\u001B[1;32m    422\u001B[0m             \u001B[0mout\u001B[0m \u001B[0;34m=\u001B[0m \u001B[0mX\u001B[0m\u001B[0;34m\u001B[0m\u001B[0;34m\u001B[0m\u001B[0m\n\u001B[1;32m    423\u001B[0m         \u001B[0;32melse\u001B[0m\u001B[0;34m:\u001B[0m\u001B[0;34m\u001B[0m\u001B[0;34m\u001B[0m\u001B[0m\n",
      "\u001B[0;32m~/opt/anaconda3/envs/datascience/lib/python3.8/site-packages/sklearn/utils/validation.py\u001B[0m in \u001B[0;36minner_f\u001B[0;34m(*args, **kwargs)\u001B[0m\n\u001B[1;32m     61\u001B[0m             \u001B[0mextra_args\u001B[0m \u001B[0;34m=\u001B[0m \u001B[0mlen\u001B[0m\u001B[0;34m(\u001B[0m\u001B[0margs\u001B[0m\u001B[0;34m)\u001B[0m \u001B[0;34m-\u001B[0m \u001B[0mlen\u001B[0m\u001B[0;34m(\u001B[0m\u001B[0mall_args\u001B[0m\u001B[0;34m)\u001B[0m\u001B[0;34m\u001B[0m\u001B[0;34m\u001B[0m\u001B[0m\n\u001B[1;32m     62\u001B[0m             \u001B[0;32mif\u001B[0m \u001B[0mextra_args\u001B[0m \u001B[0;34m<=\u001B[0m \u001B[0;36m0\u001B[0m\u001B[0;34m:\u001B[0m\u001B[0;34m\u001B[0m\u001B[0;34m\u001B[0m\u001B[0m\n\u001B[0;32m---> 63\u001B[0;31m                 \u001B[0;32mreturn\u001B[0m \u001B[0mf\u001B[0m\u001B[0;34m(\u001B[0m\u001B[0;34m*\u001B[0m\u001B[0margs\u001B[0m\u001B[0;34m,\u001B[0m \u001B[0;34m**\u001B[0m\u001B[0mkwargs\u001B[0m\u001B[0;34m)\u001B[0m\u001B[0;34m\u001B[0m\u001B[0;34m\u001B[0m\u001B[0m\n\u001B[0m\u001B[1;32m     64\u001B[0m \u001B[0;34m\u001B[0m\u001B[0m\n\u001B[1;32m     65\u001B[0m             \u001B[0;31m# extra_args > 0\u001B[0m\u001B[0;34m\u001B[0m\u001B[0;34m\u001B[0m\u001B[0;34m\u001B[0m\u001B[0m\n",
      "\u001B[0;32m~/opt/anaconda3/envs/datascience/lib/python3.8/site-packages/sklearn/utils/validation.py\u001B[0m in \u001B[0;36mcheck_array\u001B[0;34m(array, accept_sparse, accept_large_sparse, dtype, order, copy, force_all_finite, ensure_2d, allow_nd, ensure_min_samples, ensure_min_features, estimator)\u001B[0m\n\u001B[1;32m    614\u001B[0m                     \u001B[0marray\u001B[0m \u001B[0;34m=\u001B[0m \u001B[0marray\u001B[0m\u001B[0;34m.\u001B[0m\u001B[0mastype\u001B[0m\u001B[0;34m(\u001B[0m\u001B[0mdtype\u001B[0m\u001B[0;34m,\u001B[0m \u001B[0mcasting\u001B[0m\u001B[0;34m=\u001B[0m\u001B[0;34m\"unsafe\"\u001B[0m\u001B[0;34m,\u001B[0m \u001B[0mcopy\u001B[0m\u001B[0;34m=\u001B[0m\u001B[0;32mFalse\u001B[0m\u001B[0;34m)\u001B[0m\u001B[0;34m\u001B[0m\u001B[0;34m\u001B[0m\u001B[0m\n\u001B[1;32m    615\u001B[0m                 \u001B[0;32melse\u001B[0m\u001B[0;34m:\u001B[0m\u001B[0;34m\u001B[0m\u001B[0;34m\u001B[0m\u001B[0m\n\u001B[0;32m--> 616\u001B[0;31m                     \u001B[0marray\u001B[0m \u001B[0;34m=\u001B[0m \u001B[0mnp\u001B[0m\u001B[0;34m.\u001B[0m\u001B[0masarray\u001B[0m\u001B[0;34m(\u001B[0m\u001B[0marray\u001B[0m\u001B[0;34m,\u001B[0m \u001B[0morder\u001B[0m\u001B[0;34m=\u001B[0m\u001B[0morder\u001B[0m\u001B[0;34m,\u001B[0m \u001B[0mdtype\u001B[0m\u001B[0;34m=\u001B[0m\u001B[0mdtype\u001B[0m\u001B[0;34m)\u001B[0m\u001B[0;34m\u001B[0m\u001B[0;34m\u001B[0m\u001B[0m\n\u001B[0m\u001B[1;32m    617\u001B[0m             \u001B[0;32mexcept\u001B[0m \u001B[0mComplexWarning\u001B[0m \u001B[0;32mas\u001B[0m \u001B[0mcomplex_warning\u001B[0m\u001B[0;34m:\u001B[0m\u001B[0;34m\u001B[0m\u001B[0;34m\u001B[0m\u001B[0m\n\u001B[1;32m    618\u001B[0m                 raise ValueError(\"Complex data not supported\\n\"\n",
      "\u001B[0;32m~/opt/anaconda3/envs/datascience/lib/python3.8/site-packages/numpy/core/_asarray.py\u001B[0m in \u001B[0;36masarray\u001B[0;34m(a, dtype, order)\u001B[0m\n\u001B[1;32m     81\u001B[0m \u001B[0;34m\u001B[0m\u001B[0m\n\u001B[1;32m     82\u001B[0m     \"\"\"\n\u001B[0;32m---> 83\u001B[0;31m     \u001B[0;32mreturn\u001B[0m \u001B[0marray\u001B[0m\u001B[0;34m(\u001B[0m\u001B[0ma\u001B[0m\u001B[0;34m,\u001B[0m \u001B[0mdtype\u001B[0m\u001B[0;34m,\u001B[0m \u001B[0mcopy\u001B[0m\u001B[0;34m=\u001B[0m\u001B[0;32mFalse\u001B[0m\u001B[0;34m,\u001B[0m \u001B[0morder\u001B[0m\u001B[0;34m=\u001B[0m\u001B[0morder\u001B[0m\u001B[0;34m)\u001B[0m\u001B[0;34m\u001B[0m\u001B[0;34m\u001B[0m\u001B[0m\n\u001B[0m\u001B[1;32m     84\u001B[0m \u001B[0;34m\u001B[0m\u001B[0m\n\u001B[1;32m     85\u001B[0m \u001B[0;34m\u001B[0m\u001B[0m\n",
      "\u001B[0;32m~/opt/anaconda3/envs/datascience/lib/python3.8/site-packages/pandas/core/generic.py\u001B[0m in \u001B[0;36m__array__\u001B[0;34m(self, dtype)\u001B[0m\n\u001B[1;32m   1897\u001B[0m \u001B[0;34m\u001B[0m\u001B[0m\n\u001B[1;32m   1898\u001B[0m     \u001B[0;32mdef\u001B[0m \u001B[0m__array__\u001B[0m\u001B[0;34m(\u001B[0m\u001B[0mself\u001B[0m\u001B[0;34m,\u001B[0m \u001B[0mdtype\u001B[0m\u001B[0;34m=\u001B[0m\u001B[0;32mNone\u001B[0m\u001B[0;34m)\u001B[0m \u001B[0;34m->\u001B[0m \u001B[0mnp\u001B[0m\u001B[0;34m.\u001B[0m\u001B[0mndarray\u001B[0m\u001B[0;34m:\u001B[0m\u001B[0;34m\u001B[0m\u001B[0;34m\u001B[0m\u001B[0m\n\u001B[0;32m-> 1899\u001B[0;31m         \u001B[0;32mreturn\u001B[0m \u001B[0mnp\u001B[0m\u001B[0;34m.\u001B[0m\u001B[0masarray\u001B[0m\u001B[0;34m(\u001B[0m\u001B[0mself\u001B[0m\u001B[0;34m.\u001B[0m\u001B[0m_values\u001B[0m\u001B[0;34m,\u001B[0m \u001B[0mdtype\u001B[0m\u001B[0;34m=\u001B[0m\u001B[0mdtype\u001B[0m\u001B[0;34m)\u001B[0m\u001B[0;34m\u001B[0m\u001B[0;34m\u001B[0m\u001B[0m\n\u001B[0m\u001B[1;32m   1900\u001B[0m \u001B[0;34m\u001B[0m\u001B[0m\n\u001B[1;32m   1901\u001B[0m     def __array_wrap__(\n",
      "\u001B[0;32m~/opt/anaconda3/envs/datascience/lib/python3.8/site-packages/numpy/core/_asarray.py\u001B[0m in \u001B[0;36masarray\u001B[0;34m(a, dtype, order)\u001B[0m\n\u001B[1;32m     81\u001B[0m \u001B[0;34m\u001B[0m\u001B[0m\n\u001B[1;32m     82\u001B[0m     \"\"\"\n\u001B[0;32m---> 83\u001B[0;31m     \u001B[0;32mreturn\u001B[0m \u001B[0marray\u001B[0m\u001B[0;34m(\u001B[0m\u001B[0ma\u001B[0m\u001B[0;34m,\u001B[0m \u001B[0mdtype\u001B[0m\u001B[0;34m,\u001B[0m \u001B[0mcopy\u001B[0m\u001B[0;34m=\u001B[0m\u001B[0;32mFalse\u001B[0m\u001B[0;34m,\u001B[0m \u001B[0morder\u001B[0m\u001B[0;34m=\u001B[0m\u001B[0morder\u001B[0m\u001B[0;34m)\u001B[0m\u001B[0;34m\u001B[0m\u001B[0;34m\u001B[0m\u001B[0m\n\u001B[0m\u001B[1;32m     84\u001B[0m \u001B[0;34m\u001B[0m\u001B[0m\n\u001B[1;32m     85\u001B[0m \u001B[0;34m\u001B[0m\u001B[0m\n",
      "\u001B[0;31mValueError\u001B[0m: could not convert string to float: 'X'"
     ]
    }
   ],
   "source": [
    "vote_cluster = vote.copy()\n",
    "\n",
    "elec_cols['GENERAL'][:-2]"
   ],
   "metadata": {
    "collapsed": false,
    "pycharm": {
     "name": "#%%\n"
    }
   }
  },
  {
   "cell_type": "code",
   "execution_count": 187,
   "outputs": [
    {
     "data": {
      "text/plain": "       SOS_VOTERID  COUNTY_NUMBER  COUNTY_ID    LAST_NAME FIRST_NAME  \\\n0     OH0026000812             18    2979274        GREEN     NICOLE   \n1     OH0021926223             18    2549153         HALL    ANTHONY   \n2     OH0025830622             18    2957091          RAY   KATHLEEN   \n3     OH0024069097             18    2772424         COOK      DYLAN   \n4     OH0014648988             18     411390  HILTAYCHUCK       JOHN   \n...            ...            ...        ...          ...        ...   \n7981  OH0019462088             67    9500376        SIMMS    JESSICA   \n7982  OH0012160018             84    7100289     MARSHALL     SHELBY   \n7983  OH0024485703             84   10234371       MCLAIN      DEREK   \n7984  OH0024773528             78     434796       CANNON       JOHN   \n7985  OH0010485532             77     761380         ODEN      SCOTT   \n\n     MIDDLE_NAME SUFFIX DATE_OF_BIRTH REGISTRATION_DATE  VOTER_STATUS  ...  \\\n0              M    NaN    1974-11-27        2020-10-05        ACTIVE  ...   \n1            NaN    NaN    1959-12-25        2012-09-10        ACTIVE  ...   \n2           KERN    NaN    1955-09-19        2020-09-11        ACTIVE  ...   \n3              A    NaN    1996-11-19        2020-09-24  CONFIRMATION  ...   \n4              C    NaN    1952-04-07        2013-08-08        ACTIVE  ...   \n...          ...    ...           ...               ...           ...  ...   \n7981       RENEE    NaN    1977-01-21        2008-01-25        ACTIVE  ...   \n7982           J    NaN    1936-06-20        1971-06-05        ACTIVE  ...   \n7983      ANDREW    NaN    1978-07-30        2018-01-17        ACTIVE  ...   \n7984           E    NaN    1948-10-21        2018-09-08  CONFIRMATION  ...   \n7985       BRIAN    NaN    1976-10-15        2000-02-26        ACTIVE  ...   \n\n     PRIMARY-09/12/2017 GENERAL-11/07/2017 PRIMARY-05/08/2018  \\\n0                   NaN                NaN                NaN   \n1                   NaN                  X                NaN   \n2                   NaN                NaN                NaN   \n3                   NaN                NaN                NaN   \n4                   NaN                NaN                NaN   \n...                 ...                ...                ...   \n7981                NaN                NaN                NaN   \n7982                NaN                  X                  D   \n7983                NaN                NaN                NaN   \n7984                NaN                NaN                NaN   \n7985                NaN                NaN                NaN   \n\n     GENERAL-08/07/2018 GENERAL-11/06/2018  PRIMARY-05/07/2019  \\\n0                   NaN                NaN                 NaN   \n1                   NaN                  X                 NaN   \n2                   NaN                NaN                 NaN   \n3                   NaN                  X                 NaN   \n4                   NaN                NaN                 NaN   \n...                 ...                ...                 ...   \n7981                NaN                  X                 NaN   \n7982                NaN                  X                 NaN   \n7983                NaN                NaN                 NaN   \n7984                NaN                NaN                 NaN   \n7985                NaN                  X                 NaN   \n\n      PRIMARY-09/10/2019  GENERAL-11/05/2019  PRIMARY-03/17/2020  \\\n0                    NaN                 NaN                 NaN   \n1                    NaN                 NaN                 NaN   \n2                    NaN                 NaN                 NaN   \n3                    NaN                 NaN                   D   \n4                    NaN                 NaN                 NaN   \n...                  ...                 ...                 ...   \n7981                 NaN                 NaN                   D   \n7982                 NaN                   X                   D   \n7983                 NaN                 NaN                 NaN   \n7984                 NaN                 NaN                 NaN   \n7985                 NaN                 NaN                 NaN   \n\n     GENERAL-11/03/2020  \n0                   NaN  \n1                     X  \n2                     X  \n3                     X  \n4                     X  \n...                 ...  \n7981                NaN  \n7982                  X  \n7983                  X  \n7984                NaN  \n7985                  X  \n\n[7986 rows x 110 columns]",
      "text/html": "<div>\n<style scoped>\n    .dataframe tbody tr th:only-of-type {\n        vertical-align: middle;\n    }\n\n    .dataframe tbody tr th {\n        vertical-align: top;\n    }\n\n    .dataframe thead th {\n        text-align: right;\n    }\n</style>\n<table border=\"1\" class=\"dataframe\">\n  <thead>\n    <tr style=\"text-align: right;\">\n      <th></th>\n      <th>SOS_VOTERID</th>\n      <th>COUNTY_NUMBER</th>\n      <th>COUNTY_ID</th>\n      <th>LAST_NAME</th>\n      <th>FIRST_NAME</th>\n      <th>MIDDLE_NAME</th>\n      <th>SUFFIX</th>\n      <th>DATE_OF_BIRTH</th>\n      <th>REGISTRATION_DATE</th>\n      <th>VOTER_STATUS</th>\n      <th>...</th>\n      <th>PRIMARY-09/12/2017</th>\n      <th>GENERAL-11/07/2017</th>\n      <th>PRIMARY-05/08/2018</th>\n      <th>GENERAL-08/07/2018</th>\n      <th>GENERAL-11/06/2018</th>\n      <th>PRIMARY-05/07/2019</th>\n      <th>PRIMARY-09/10/2019</th>\n      <th>GENERAL-11/05/2019</th>\n      <th>PRIMARY-03/17/2020</th>\n      <th>GENERAL-11/03/2020</th>\n    </tr>\n  </thead>\n  <tbody>\n    <tr>\n      <th>0</th>\n      <td>OH0026000812</td>\n      <td>18</td>\n      <td>2979274</td>\n      <td>GREEN</td>\n      <td>NICOLE</td>\n      <td>M</td>\n      <td>NaN</td>\n      <td>1974-11-27</td>\n      <td>2020-10-05</td>\n      <td>ACTIVE</td>\n      <td>...</td>\n      <td>NaN</td>\n      <td>NaN</td>\n      <td>NaN</td>\n      <td>NaN</td>\n      <td>NaN</td>\n      <td>NaN</td>\n      <td>NaN</td>\n      <td>NaN</td>\n      <td>NaN</td>\n      <td>NaN</td>\n    </tr>\n    <tr>\n      <th>1</th>\n      <td>OH0021926223</td>\n      <td>18</td>\n      <td>2549153</td>\n      <td>HALL</td>\n      <td>ANTHONY</td>\n      <td>NaN</td>\n      <td>NaN</td>\n      <td>1959-12-25</td>\n      <td>2012-09-10</td>\n      <td>ACTIVE</td>\n      <td>...</td>\n      <td>NaN</td>\n      <td>X</td>\n      <td>NaN</td>\n      <td>NaN</td>\n      <td>X</td>\n      <td>NaN</td>\n      <td>NaN</td>\n      <td>NaN</td>\n      <td>NaN</td>\n      <td>X</td>\n    </tr>\n    <tr>\n      <th>2</th>\n      <td>OH0025830622</td>\n      <td>18</td>\n      <td>2957091</td>\n      <td>RAY</td>\n      <td>KATHLEEN</td>\n      <td>KERN</td>\n      <td>NaN</td>\n      <td>1955-09-19</td>\n      <td>2020-09-11</td>\n      <td>ACTIVE</td>\n      <td>...</td>\n      <td>NaN</td>\n      <td>NaN</td>\n      <td>NaN</td>\n      <td>NaN</td>\n      <td>NaN</td>\n      <td>NaN</td>\n      <td>NaN</td>\n      <td>NaN</td>\n      <td>NaN</td>\n      <td>X</td>\n    </tr>\n    <tr>\n      <th>3</th>\n      <td>OH0024069097</td>\n      <td>18</td>\n      <td>2772424</td>\n      <td>COOK</td>\n      <td>DYLAN</td>\n      <td>A</td>\n      <td>NaN</td>\n      <td>1996-11-19</td>\n      <td>2020-09-24</td>\n      <td>CONFIRMATION</td>\n      <td>...</td>\n      <td>NaN</td>\n      <td>NaN</td>\n      <td>NaN</td>\n      <td>NaN</td>\n      <td>X</td>\n      <td>NaN</td>\n      <td>NaN</td>\n      <td>NaN</td>\n      <td>D</td>\n      <td>X</td>\n    </tr>\n    <tr>\n      <th>4</th>\n      <td>OH0014648988</td>\n      <td>18</td>\n      <td>411390</td>\n      <td>HILTAYCHUCK</td>\n      <td>JOHN</td>\n      <td>C</td>\n      <td>NaN</td>\n      <td>1952-04-07</td>\n      <td>2013-08-08</td>\n      <td>ACTIVE</td>\n      <td>...</td>\n      <td>NaN</td>\n      <td>NaN</td>\n      <td>NaN</td>\n      <td>NaN</td>\n      <td>NaN</td>\n      <td>NaN</td>\n      <td>NaN</td>\n      <td>NaN</td>\n      <td>NaN</td>\n      <td>X</td>\n    </tr>\n    <tr>\n      <th>...</th>\n      <td>...</td>\n      <td>...</td>\n      <td>...</td>\n      <td>...</td>\n      <td>...</td>\n      <td>...</td>\n      <td>...</td>\n      <td>...</td>\n      <td>...</td>\n      <td>...</td>\n      <td>...</td>\n      <td>...</td>\n      <td>...</td>\n      <td>...</td>\n      <td>...</td>\n      <td>...</td>\n      <td>...</td>\n      <td>...</td>\n      <td>...</td>\n      <td>...</td>\n      <td>...</td>\n    </tr>\n    <tr>\n      <th>7981</th>\n      <td>OH0019462088</td>\n      <td>67</td>\n      <td>9500376</td>\n      <td>SIMMS</td>\n      <td>JESSICA</td>\n      <td>RENEE</td>\n      <td>NaN</td>\n      <td>1977-01-21</td>\n      <td>2008-01-25</td>\n      <td>ACTIVE</td>\n      <td>...</td>\n      <td>NaN</td>\n      <td>NaN</td>\n      <td>NaN</td>\n      <td>NaN</td>\n      <td>X</td>\n      <td>NaN</td>\n      <td>NaN</td>\n      <td>NaN</td>\n      <td>D</td>\n      <td>NaN</td>\n    </tr>\n    <tr>\n      <th>7982</th>\n      <td>OH0012160018</td>\n      <td>84</td>\n      <td>7100289</td>\n      <td>MARSHALL</td>\n      <td>SHELBY</td>\n      <td>J</td>\n      <td>NaN</td>\n      <td>1936-06-20</td>\n      <td>1971-06-05</td>\n      <td>ACTIVE</td>\n      <td>...</td>\n      <td>NaN</td>\n      <td>X</td>\n      <td>D</td>\n      <td>NaN</td>\n      <td>X</td>\n      <td>NaN</td>\n      <td>NaN</td>\n      <td>X</td>\n      <td>D</td>\n      <td>X</td>\n    </tr>\n    <tr>\n      <th>7983</th>\n      <td>OH0024485703</td>\n      <td>84</td>\n      <td>10234371</td>\n      <td>MCLAIN</td>\n      <td>DEREK</td>\n      <td>ANDREW</td>\n      <td>NaN</td>\n      <td>1978-07-30</td>\n      <td>2018-01-17</td>\n      <td>ACTIVE</td>\n      <td>...</td>\n      <td>NaN</td>\n      <td>NaN</td>\n      <td>NaN</td>\n      <td>NaN</td>\n      <td>NaN</td>\n      <td>NaN</td>\n      <td>NaN</td>\n      <td>NaN</td>\n      <td>NaN</td>\n      <td>X</td>\n    </tr>\n    <tr>\n      <th>7984</th>\n      <td>OH0024773528</td>\n      <td>78</td>\n      <td>434796</td>\n      <td>CANNON</td>\n      <td>JOHN</td>\n      <td>E</td>\n      <td>NaN</td>\n      <td>1948-10-21</td>\n      <td>2018-09-08</td>\n      <td>CONFIRMATION</td>\n      <td>...</td>\n      <td>NaN</td>\n      <td>NaN</td>\n      <td>NaN</td>\n      <td>NaN</td>\n      <td>NaN</td>\n      <td>NaN</td>\n      <td>NaN</td>\n      <td>NaN</td>\n      <td>NaN</td>\n      <td>NaN</td>\n    </tr>\n    <tr>\n      <th>7985</th>\n      <td>OH0010485532</td>\n      <td>77</td>\n      <td>761380</td>\n      <td>ODEN</td>\n      <td>SCOTT</td>\n      <td>BRIAN</td>\n      <td>NaN</td>\n      <td>1976-10-15</td>\n      <td>2000-02-26</td>\n      <td>ACTIVE</td>\n      <td>...</td>\n      <td>NaN</td>\n      <td>NaN</td>\n      <td>NaN</td>\n      <td>NaN</td>\n      <td>X</td>\n      <td>NaN</td>\n      <td>NaN</td>\n      <td>NaN</td>\n      <td>NaN</td>\n      <td>X</td>\n    </tr>\n  </tbody>\n</table>\n<p>7986 rows × 110 columns</p>\n</div>"
     },
     "execution_count": 187,
     "metadata": {},
     "output_type": "execute_result"
    }
   ],
   "source": [
    "votec = vote.copy()\n",
    "votec"
   ],
   "metadata": {
    "collapsed": false,
    "pycharm": {
     "name": "#%%\n"
    }
   }
  },
  {
   "cell_type": "code",
   "execution_count": 179,
   "outputs": [
    {
     "ename": "ValueError",
     "evalue": "could not convert string to float: 'X'",
     "output_type": "error",
     "traceback": [
      "\u001B[0;31m---------------------------------------------------------------------------\u001B[0m",
      "\u001B[0;31mValueError\u001B[0m                                Traceback (most recent call last)",
      "\u001B[0;32m<ipython-input-179-c39cc43260e7>\u001B[0m in \u001B[0;36m<module>\u001B[0;34m\u001B[0m\n\u001B[1;32m      1\u001B[0m \u001B[0;32mfrom\u001B[0m \u001B[0msklearn\u001B[0m\u001B[0;34m.\u001B[0m\u001B[0mcluster\u001B[0m \u001B[0;32mimport\u001B[0m \u001B[0mAgglomerativeClustering\u001B[0m\u001B[0;34m\u001B[0m\u001B[0;34m\u001B[0m\u001B[0m\n\u001B[1;32m      2\u001B[0m \u001B[0mcluster\u001B[0m \u001B[0;34m=\u001B[0m \u001B[0mAgglomerativeClustering\u001B[0m\u001B[0;34m(\u001B[0m\u001B[0mn_clusters\u001B[0m\u001B[0;34m=\u001B[0m\u001B[0;36m10\u001B[0m\u001B[0;34m)\u001B[0m\u001B[0;34m\u001B[0m\u001B[0;34m\u001B[0m\u001B[0m\n\u001B[0;32m----> 3\u001B[0;31m \u001B[0mfitted\u001B[0m \u001B[0;34m=\u001B[0m \u001B[0mcluster\u001B[0m\u001B[0;34m.\u001B[0m\u001B[0mfit\u001B[0m\u001B[0;34m(\u001B[0m\u001B[0mvotec\u001B[0m\u001B[0;34m[\u001B[0m\u001B[0melec_cols\u001B[0m\u001B[0;34m[\u001B[0m\u001B[0;34m'GENERAL'\u001B[0m\u001B[0;34m]\u001B[0m\u001B[0;34m[\u001B[0m\u001B[0;34m:\u001B[0m\u001B[0;34m-\u001B[0m\u001B[0;36m2\u001B[0m\u001B[0;34m]\u001B[0m\u001B[0;34m]\u001B[0m\u001B[0;34m,\u001B[0m \u001B[0mvotec\u001B[0m\u001B[0;34m[\u001B[0m\u001B[0melec_cols\u001B[0m\u001B[0;34m[\u001B[0m\u001B[0;34m'GENERAL'\u001B[0m\u001B[0;34m]\u001B[0m\u001B[0;34m[\u001B[0m\u001B[0;34m-\u001B[0m\u001B[0;36m1\u001B[0m\u001B[0;34m]\u001B[0m\u001B[0;34m]\u001B[0m\u001B[0;34m)\u001B[0m\u001B[0;34m\u001B[0m\u001B[0;34m\u001B[0m\u001B[0m\n\u001B[0m\u001B[1;32m      4\u001B[0m \u001B[0mfitted\u001B[0m\u001B[0;34m\u001B[0m\u001B[0;34m\u001B[0m\u001B[0m\n\u001B[1;32m      5\u001B[0m \u001B[0;34m\u001B[0m\u001B[0m\n",
      "\u001B[0;32m~/opt/anaconda3/envs/datascience/lib/python3.8/site-packages/sklearn/cluster/_agglomerative.py\u001B[0m in \u001B[0;36mfit\u001B[0;34m(self, X, y)\u001B[0m\n\u001B[1;32m    832\u001B[0m         \u001B[0mself\u001B[0m\u001B[0;34m\u001B[0m\u001B[0;34m\u001B[0m\u001B[0m\n\u001B[1;32m    833\u001B[0m         \"\"\"\n\u001B[0;32m--> 834\u001B[0;31m         \u001B[0mX\u001B[0m \u001B[0;34m=\u001B[0m \u001B[0mself\u001B[0m\u001B[0;34m.\u001B[0m\u001B[0m_validate_data\u001B[0m\u001B[0;34m(\u001B[0m\u001B[0mX\u001B[0m\u001B[0;34m,\u001B[0m \u001B[0mensure_min_samples\u001B[0m\u001B[0;34m=\u001B[0m\u001B[0;36m2\u001B[0m\u001B[0;34m,\u001B[0m \u001B[0mestimator\u001B[0m\u001B[0;34m=\u001B[0m\u001B[0mself\u001B[0m\u001B[0;34m)\u001B[0m\u001B[0;34m\u001B[0m\u001B[0;34m\u001B[0m\u001B[0m\n\u001B[0m\u001B[1;32m    835\u001B[0m         \u001B[0mmemory\u001B[0m \u001B[0;34m=\u001B[0m \u001B[0mcheck_memory\u001B[0m\u001B[0;34m(\u001B[0m\u001B[0mself\u001B[0m\u001B[0;34m.\u001B[0m\u001B[0mmemory\u001B[0m\u001B[0;34m)\u001B[0m\u001B[0;34m\u001B[0m\u001B[0;34m\u001B[0m\u001B[0m\n\u001B[1;32m    836\u001B[0m \u001B[0;34m\u001B[0m\u001B[0m\n",
      "\u001B[0;32m~/opt/anaconda3/envs/datascience/lib/python3.8/site-packages/sklearn/base.py\u001B[0m in \u001B[0;36m_validate_data\u001B[0;34m(self, X, y, reset, validate_separately, **check_params)\u001B[0m\n\u001B[1;32m    419\u001B[0m             \u001B[0mout\u001B[0m \u001B[0;34m=\u001B[0m \u001B[0mX\u001B[0m\u001B[0;34m\u001B[0m\u001B[0;34m\u001B[0m\u001B[0m\n\u001B[1;32m    420\u001B[0m         \u001B[0;32melif\u001B[0m \u001B[0misinstance\u001B[0m\u001B[0;34m(\u001B[0m\u001B[0my\u001B[0m\u001B[0;34m,\u001B[0m \u001B[0mstr\u001B[0m\u001B[0;34m)\u001B[0m \u001B[0;32mand\u001B[0m \u001B[0my\u001B[0m \u001B[0;34m==\u001B[0m \u001B[0;34m'no_validation'\u001B[0m\u001B[0;34m:\u001B[0m\u001B[0;34m\u001B[0m\u001B[0;34m\u001B[0m\u001B[0m\n\u001B[0;32m--> 421\u001B[0;31m             \u001B[0mX\u001B[0m \u001B[0;34m=\u001B[0m \u001B[0mcheck_array\u001B[0m\u001B[0;34m(\u001B[0m\u001B[0mX\u001B[0m\u001B[0;34m,\u001B[0m \u001B[0;34m**\u001B[0m\u001B[0mcheck_params\u001B[0m\u001B[0;34m)\u001B[0m\u001B[0;34m\u001B[0m\u001B[0;34m\u001B[0m\u001B[0m\n\u001B[0m\u001B[1;32m    422\u001B[0m             \u001B[0mout\u001B[0m \u001B[0;34m=\u001B[0m \u001B[0mX\u001B[0m\u001B[0;34m\u001B[0m\u001B[0;34m\u001B[0m\u001B[0m\n\u001B[1;32m    423\u001B[0m         \u001B[0;32melse\u001B[0m\u001B[0;34m:\u001B[0m\u001B[0;34m\u001B[0m\u001B[0;34m\u001B[0m\u001B[0m\n",
      "\u001B[0;32m~/opt/anaconda3/envs/datascience/lib/python3.8/site-packages/sklearn/utils/validation.py\u001B[0m in \u001B[0;36minner_f\u001B[0;34m(*args, **kwargs)\u001B[0m\n\u001B[1;32m     61\u001B[0m             \u001B[0mextra_args\u001B[0m \u001B[0;34m=\u001B[0m \u001B[0mlen\u001B[0m\u001B[0;34m(\u001B[0m\u001B[0margs\u001B[0m\u001B[0;34m)\u001B[0m \u001B[0;34m-\u001B[0m \u001B[0mlen\u001B[0m\u001B[0;34m(\u001B[0m\u001B[0mall_args\u001B[0m\u001B[0;34m)\u001B[0m\u001B[0;34m\u001B[0m\u001B[0;34m\u001B[0m\u001B[0m\n\u001B[1;32m     62\u001B[0m             \u001B[0;32mif\u001B[0m \u001B[0mextra_args\u001B[0m \u001B[0;34m<=\u001B[0m \u001B[0;36m0\u001B[0m\u001B[0;34m:\u001B[0m\u001B[0;34m\u001B[0m\u001B[0;34m\u001B[0m\u001B[0m\n\u001B[0;32m---> 63\u001B[0;31m                 \u001B[0;32mreturn\u001B[0m \u001B[0mf\u001B[0m\u001B[0;34m(\u001B[0m\u001B[0;34m*\u001B[0m\u001B[0margs\u001B[0m\u001B[0;34m,\u001B[0m \u001B[0;34m**\u001B[0m\u001B[0mkwargs\u001B[0m\u001B[0;34m)\u001B[0m\u001B[0;34m\u001B[0m\u001B[0;34m\u001B[0m\u001B[0m\n\u001B[0m\u001B[1;32m     64\u001B[0m \u001B[0;34m\u001B[0m\u001B[0m\n\u001B[1;32m     65\u001B[0m             \u001B[0;31m# extra_args > 0\u001B[0m\u001B[0;34m\u001B[0m\u001B[0;34m\u001B[0m\u001B[0;34m\u001B[0m\u001B[0m\n",
      "\u001B[0;32m~/opt/anaconda3/envs/datascience/lib/python3.8/site-packages/sklearn/utils/validation.py\u001B[0m in \u001B[0;36mcheck_array\u001B[0;34m(array, accept_sparse, accept_large_sparse, dtype, order, copy, force_all_finite, ensure_2d, allow_nd, ensure_min_samples, ensure_min_features, estimator)\u001B[0m\n\u001B[1;32m    614\u001B[0m                     \u001B[0marray\u001B[0m \u001B[0;34m=\u001B[0m \u001B[0marray\u001B[0m\u001B[0;34m.\u001B[0m\u001B[0mastype\u001B[0m\u001B[0;34m(\u001B[0m\u001B[0mdtype\u001B[0m\u001B[0;34m,\u001B[0m \u001B[0mcasting\u001B[0m\u001B[0;34m=\u001B[0m\u001B[0;34m\"unsafe\"\u001B[0m\u001B[0;34m,\u001B[0m \u001B[0mcopy\u001B[0m\u001B[0;34m=\u001B[0m\u001B[0;32mFalse\u001B[0m\u001B[0;34m)\u001B[0m\u001B[0;34m\u001B[0m\u001B[0;34m\u001B[0m\u001B[0m\n\u001B[1;32m    615\u001B[0m                 \u001B[0;32melse\u001B[0m\u001B[0;34m:\u001B[0m\u001B[0;34m\u001B[0m\u001B[0;34m\u001B[0m\u001B[0m\n\u001B[0;32m--> 616\u001B[0;31m                     \u001B[0marray\u001B[0m \u001B[0;34m=\u001B[0m \u001B[0mnp\u001B[0m\u001B[0;34m.\u001B[0m\u001B[0masarray\u001B[0m\u001B[0;34m(\u001B[0m\u001B[0marray\u001B[0m\u001B[0;34m,\u001B[0m \u001B[0morder\u001B[0m\u001B[0;34m=\u001B[0m\u001B[0morder\u001B[0m\u001B[0;34m,\u001B[0m \u001B[0mdtype\u001B[0m\u001B[0;34m=\u001B[0m\u001B[0mdtype\u001B[0m\u001B[0;34m)\u001B[0m\u001B[0;34m\u001B[0m\u001B[0;34m\u001B[0m\u001B[0m\n\u001B[0m\u001B[1;32m    617\u001B[0m             \u001B[0;32mexcept\u001B[0m \u001B[0mComplexWarning\u001B[0m \u001B[0;32mas\u001B[0m \u001B[0mcomplex_warning\u001B[0m\u001B[0;34m:\u001B[0m\u001B[0;34m\u001B[0m\u001B[0;34m\u001B[0m\u001B[0m\n\u001B[1;32m    618\u001B[0m                 raise ValueError(\"Complex data not supported\\n\"\n",
      "\u001B[0;32m~/opt/anaconda3/envs/datascience/lib/python3.8/site-packages/numpy/core/_asarray.py\u001B[0m in \u001B[0;36masarray\u001B[0;34m(a, dtype, order)\u001B[0m\n\u001B[1;32m     81\u001B[0m \u001B[0;34m\u001B[0m\u001B[0m\n\u001B[1;32m     82\u001B[0m     \"\"\"\n\u001B[0;32m---> 83\u001B[0;31m     \u001B[0;32mreturn\u001B[0m \u001B[0marray\u001B[0m\u001B[0;34m(\u001B[0m\u001B[0ma\u001B[0m\u001B[0;34m,\u001B[0m \u001B[0mdtype\u001B[0m\u001B[0;34m,\u001B[0m \u001B[0mcopy\u001B[0m\u001B[0;34m=\u001B[0m\u001B[0;32mFalse\u001B[0m\u001B[0;34m,\u001B[0m \u001B[0morder\u001B[0m\u001B[0;34m=\u001B[0m\u001B[0morder\u001B[0m\u001B[0;34m)\u001B[0m\u001B[0;34m\u001B[0m\u001B[0;34m\u001B[0m\u001B[0m\n\u001B[0m\u001B[1;32m     84\u001B[0m \u001B[0;34m\u001B[0m\u001B[0m\n\u001B[1;32m     85\u001B[0m \u001B[0;34m\u001B[0m\u001B[0m\n",
      "\u001B[0;32m~/opt/anaconda3/envs/datascience/lib/python3.8/site-packages/pandas/core/generic.py\u001B[0m in \u001B[0;36m__array__\u001B[0;34m(self, dtype)\u001B[0m\n\u001B[1;32m   1897\u001B[0m \u001B[0;34m\u001B[0m\u001B[0m\n\u001B[1;32m   1898\u001B[0m     \u001B[0;32mdef\u001B[0m \u001B[0m__array__\u001B[0m\u001B[0;34m(\u001B[0m\u001B[0mself\u001B[0m\u001B[0;34m,\u001B[0m \u001B[0mdtype\u001B[0m\u001B[0;34m=\u001B[0m\u001B[0;32mNone\u001B[0m\u001B[0;34m)\u001B[0m \u001B[0;34m->\u001B[0m \u001B[0mnp\u001B[0m\u001B[0;34m.\u001B[0m\u001B[0mndarray\u001B[0m\u001B[0;34m:\u001B[0m\u001B[0;34m\u001B[0m\u001B[0;34m\u001B[0m\u001B[0m\n\u001B[0;32m-> 1899\u001B[0;31m         \u001B[0;32mreturn\u001B[0m \u001B[0mnp\u001B[0m\u001B[0;34m.\u001B[0m\u001B[0masarray\u001B[0m\u001B[0;34m(\u001B[0m\u001B[0mself\u001B[0m\u001B[0;34m.\u001B[0m\u001B[0m_values\u001B[0m\u001B[0;34m,\u001B[0m \u001B[0mdtype\u001B[0m\u001B[0;34m=\u001B[0m\u001B[0mdtype\u001B[0m\u001B[0;34m)\u001B[0m\u001B[0;34m\u001B[0m\u001B[0;34m\u001B[0m\u001B[0m\n\u001B[0m\u001B[1;32m   1900\u001B[0m \u001B[0;34m\u001B[0m\u001B[0m\n\u001B[1;32m   1901\u001B[0m     def __array_wrap__(\n",
      "\u001B[0;32m~/opt/anaconda3/envs/datascience/lib/python3.8/site-packages/numpy/core/_asarray.py\u001B[0m in \u001B[0;36masarray\u001B[0;34m(a, dtype, order)\u001B[0m\n\u001B[1;32m     81\u001B[0m \u001B[0;34m\u001B[0m\u001B[0m\n\u001B[1;32m     82\u001B[0m     \"\"\"\n\u001B[0;32m---> 83\u001B[0;31m     \u001B[0;32mreturn\u001B[0m \u001B[0marray\u001B[0m\u001B[0;34m(\u001B[0m\u001B[0ma\u001B[0m\u001B[0;34m,\u001B[0m \u001B[0mdtype\u001B[0m\u001B[0;34m,\u001B[0m \u001B[0mcopy\u001B[0m\u001B[0;34m=\u001B[0m\u001B[0;32mFalse\u001B[0m\u001B[0;34m,\u001B[0m \u001B[0morder\u001B[0m\u001B[0;34m=\u001B[0m\u001B[0morder\u001B[0m\u001B[0;34m)\u001B[0m\u001B[0;34m\u001B[0m\u001B[0;34m\u001B[0m\u001B[0m\n\u001B[0m\u001B[1;32m     84\u001B[0m \u001B[0;34m\u001B[0m\u001B[0m\n\u001B[1;32m     85\u001B[0m \u001B[0;34m\u001B[0m\u001B[0m\n",
      "\u001B[0;31mValueError\u001B[0m: could not convert string to float: 'X'"
     ]
    }
   ],
   "source": [
    "from sklearn.cluster import AgglomerativeClustering\n",
    "cluster = AgglomerativeClustering(n_clusters=10)\n",
    "fitted = cluster.fit(votec[elec_cols['GENERAL'][:-2]], votec[elec_cols['GENERAL'][-1]])\n",
    "fitted"
   ],
   "metadata": {
    "collapsed": false,
    "pycharm": {
     "name": "#%%\n"
    }
   }
  },
  {
   "cell_type": "code",
   "execution_count": 188,
   "outputs": [
    {
     "data": {
      "text/plain": "0       NaN\n1         X\n2         X\n3         X\n4         X\n       ... \n7981    NaN\n7982      X\n7983      X\n7984    NaN\n7985      X\nName: GENERAL-11/03/2020, Length: 7986, dtype: object"
     },
     "execution_count": 188,
     "metadata": {},
     "output_type": "execute_result"
    }
   ],
   "source": [
    "c = elec_cols['GENERAL'][-1]\n",
    "votec[c]"
   ],
   "metadata": {
    "collapsed": false,
    "pycharm": {
     "name": "#%%\n"
    }
   }
  },
  {
   "cell_type": "code",
   "execution_count": 189,
   "outputs": [
    {
     "data": {
      "text/plain": "['SPECIAL-05/08/2001',\n 'SPECIAL-05/06/2003',\n 'SPECIAL-02/08/2005',\n 'SPECIAL-02/07/2006',\n 'PRIMARY-03/07/2000',\n 'PRIMARY-05/07/2002',\n 'PRIMARY-03/02/2004',\n 'PRIMARY-05/03/2005',\n 'PRIMARY-09/13/2005',\n 'PRIMARY-05/02/2006',\n 'PRIMARY-05/08/2007',\n 'PRIMARY-09/11/2007',\n 'PRIMARY-11/06/2007',\n 'PRIMARY-03/04/2008',\n 'PRIMARY-10/14/2008',\n 'PRIMARY-05/05/2009',\n 'PRIMARY-09/08/2009',\n 'PRIMARY-09/15/2009',\n 'PRIMARY-09/29/2009',\n 'PRIMARY-05/04/2010',\n 'PRIMARY-07/13/2010',\n 'PRIMARY-09/07/2010',\n 'PRIMARY-05/03/2011',\n 'PRIMARY-09/13/2011',\n 'PRIMARY-03/06/2012',\n 'PRIMARY-05/07/2013',\n 'PRIMARY-09/10/2013',\n 'PRIMARY-10/01/2013',\n 'PRIMARY-05/06/2014',\n 'PRIMARY-05/05/2015',\n 'PRIMARY-09/15/2015',\n 'PRIMARY-03/15/2016',\n 'PRIMARY-09/13/2016',\n 'PRIMARY-05/02/2017',\n 'PRIMARY-09/12/2017',\n 'PRIMARY-05/08/2018',\n 'PRIMARY-05/07/2019',\n 'PRIMARY-09/10/2019',\n 'PRIMARY-03/17/2020',\n 'GENERAL-11/07/2000',\n 'GENERAL-11/06/2001',\n 'GENERAL-11/05/2002',\n 'GENERAL-11/04/2003',\n 'GENERAL-11/02/2004',\n 'GENERAL-11/08/2005',\n 'GENERAL-11/07/2006',\n 'GENERAL-11/06/2007',\n 'GENERAL-12/11/2007',\n 'GENERAL-11/04/2008',\n 'GENERAL-11/18/2008',\n 'GENERAL-11/03/2009',\n 'GENERAL-11/02/2010',\n 'GENERAL-11/08/2011',\n 'GENERAL-11/06/2012',\n 'GENERAL-11/05/2013',\n 'GENERAL-11/04/2014',\n 'GENERAL-11/03/2015',\n 'GENERAL-06/07/2016',\n 'GENERAL-11/08/2016',\n 'GENERAL-11/07/2017',\n 'GENERAL-08/07/2018',\n 'GENERAL-11/06/2018',\n 'GENERAL-11/05/2019',\n 'GENERAL-11/03/2020']"
     },
     "execution_count": 189,
     "metadata": {},
     "output_type": "execute_result"
    }
   ],
   "source": [
    "ec = [c for n in elec_cols for c in elec_cols[n]]\n",
    "ec"
   ],
   "metadata": {
    "collapsed": false,
    "pycharm": {
     "name": "#%%\n"
    }
   }
  },
  {
   "cell_type": "code",
   "execution_count": 190,
   "outputs": [
    {
     "data": {
      "text/plain": "['SOS_VOTERID',\n 'COUNTY_NUMBER',\n 'COUNTY_ID',\n 'LAST_NAME',\n 'FIRST_NAME',\n 'MIDDLE_NAME',\n 'SUFFIX',\n 'DATE_OF_BIRTH',\n 'REGISTRATION_DATE',\n 'VOTER_STATUS',\n 'PARTY_AFFILIATION',\n 'RESIDENTIAL_ADDRESS1',\n 'RESIDENTIAL_SECONDARY_ADDR',\n 'RESIDENTIAL_CITY',\n 'RESIDENTIAL_STATE',\n 'RESIDENTIAL_ZIP',\n 'RESIDENTIAL_ZIP_PLUS4',\n 'RESIDENTIAL_COUNTRY',\n 'RESIDENTIAL_POSTALCODE',\n 'MAILING_ADDRESS1',\n 'MAILING_SECONDARY_ADDRESS',\n 'MAILING_CITY',\n 'MAILING_STATE',\n 'MAILING_ZIP',\n 'MAILING_ZIP_PLUS4',\n 'MAILING_COUNTRY',\n 'MAILING_POSTAL_CODE',\n 'CAREER_CENTER',\n 'CITY',\n 'CITY_SCHOOL_DISTRICT',\n 'COUNTY_COURT_DISTRICT',\n 'CONGRESSIONAL_DISTRICT',\n 'COURT_OF_APPEALS',\n 'EDU_SERVICE_CENTER_DISTRICT',\n 'EXEMPTED_VILL_SCHOOL_DISTRICT',\n 'LIBRARY',\n 'LOCAL_SCHOOL_DISTRICT',\n 'MUNICIPAL_COURT_DISTRICT',\n 'PRECINCT_NAME',\n 'PRECINCT_CODE',\n 'STATE_BOARD_OF_EDUCATION',\n 'STATE_REPRESENTATIVE_DISTRICT',\n 'STATE_SENATE_DISTRICT',\n 'TOWNSHIP',\n 'VILLAGE',\n 'WARD',\n 'PRIMARY-03/07/2000',\n 'GENERAL-11/07/2000',\n 'SPECIAL-05/08/2001',\n 'GENERAL-11/06/2001',\n 'PRIMARY-05/07/2002',\n 'GENERAL-11/05/2002',\n 'SPECIAL-05/06/2003',\n 'GENERAL-11/04/2003',\n 'PRIMARY-03/02/2004',\n 'GENERAL-11/02/2004',\n 'SPECIAL-02/08/2005',\n 'PRIMARY-05/03/2005',\n 'PRIMARY-09/13/2005',\n 'GENERAL-11/08/2005',\n 'SPECIAL-02/07/2006',\n 'PRIMARY-05/02/2006',\n 'GENERAL-11/07/2006',\n 'PRIMARY-05/08/2007',\n 'PRIMARY-09/11/2007',\n 'GENERAL-11/06/2007',\n 'PRIMARY-11/06/2007',\n 'GENERAL-12/11/2007',\n 'PRIMARY-03/04/2008',\n 'PRIMARY-10/14/2008',\n 'GENERAL-11/04/2008',\n 'GENERAL-11/18/2008',\n 'PRIMARY-05/05/2009',\n 'PRIMARY-09/08/2009',\n 'PRIMARY-09/15/2009',\n 'PRIMARY-09/29/2009',\n 'GENERAL-11/03/2009',\n 'PRIMARY-05/04/2010',\n 'PRIMARY-07/13/2010',\n 'PRIMARY-09/07/2010',\n 'GENERAL-11/02/2010',\n 'PRIMARY-05/03/2011',\n 'PRIMARY-09/13/2011',\n 'GENERAL-11/08/2011',\n 'PRIMARY-03/06/2012',\n 'GENERAL-11/06/2012',\n 'PRIMARY-05/07/2013',\n 'PRIMARY-09/10/2013',\n 'PRIMARY-10/01/2013',\n 'GENERAL-11/05/2013',\n 'PRIMARY-05/06/2014',\n 'GENERAL-11/04/2014',\n 'PRIMARY-05/05/2015',\n 'PRIMARY-09/15/2015',\n 'GENERAL-11/03/2015',\n 'PRIMARY-03/15/2016',\n 'GENERAL-06/07/2016',\n 'PRIMARY-09/13/2016',\n 'GENERAL-11/08/2016',\n 'PRIMARY-05/02/2017',\n 'PRIMARY-09/12/2017',\n 'GENERAL-11/07/2017',\n 'PRIMARY-05/08/2018',\n 'GENERAL-08/07/2018',\n 'GENERAL-11/06/2018',\n 'PRIMARY-05/07/2019',\n 'PRIMARY-09/10/2019',\n 'GENERAL-11/05/2019',\n 'PRIMARY-03/17/2020',\n 'GENERAL-11/03/2020',\n 'TIMES_VOTED']"
     },
     "execution_count": 190,
     "metadata": {},
     "output_type": "execute_result"
    }
   ],
   "source": [
    "votec['TIMES_VOTED'] = votec[ec].notna().sum(axis=1)\n",
    "votec.columns.to_list()"
   ],
   "metadata": {
    "collapsed": false,
    "pycharm": {
     "name": "#%%\n"
    }
   }
  },
  {
   "cell_type": "code",
   "execution_count": 191,
   "outputs": [
    {
     "data": {
      "text/plain": "           TIMES_VOTED\nCOUNTY_ID             \n84                28.0\n85                20.0\n164               27.0\n403               19.0\n525               28.0\n...                ...\n990113914          6.0\n990215687          4.0\n990219593         26.0\n990250172         16.0\n990361853          3.0\n\n[7974 rows x 1 columns]",
      "text/html": "<div>\n<style scoped>\n    .dataframe tbody tr th:only-of-type {\n        vertical-align: middle;\n    }\n\n    .dataframe tbody tr th {\n        vertical-align: top;\n    }\n\n    .dataframe thead th {\n        text-align: right;\n    }\n</style>\n<table border=\"1\" class=\"dataframe\">\n  <thead>\n    <tr style=\"text-align: right;\">\n      <th></th>\n      <th>TIMES_VOTED</th>\n    </tr>\n    <tr>\n      <th>COUNTY_ID</th>\n      <th></th>\n    </tr>\n  </thead>\n  <tbody>\n    <tr>\n      <th>84</th>\n      <td>28.0</td>\n    </tr>\n    <tr>\n      <th>85</th>\n      <td>20.0</td>\n    </tr>\n    <tr>\n      <th>164</th>\n      <td>27.0</td>\n    </tr>\n    <tr>\n      <th>403</th>\n      <td>19.0</td>\n    </tr>\n    <tr>\n      <th>525</th>\n      <td>28.0</td>\n    </tr>\n    <tr>\n      <th>...</th>\n      <td>...</td>\n    </tr>\n    <tr>\n      <th>990113914</th>\n      <td>6.0</td>\n    </tr>\n    <tr>\n      <th>990215687</th>\n      <td>4.0</td>\n    </tr>\n    <tr>\n      <th>990219593</th>\n      <td>26.0</td>\n    </tr>\n    <tr>\n      <th>990250172</th>\n      <td>16.0</td>\n    </tr>\n    <tr>\n      <th>990361853</th>\n      <td>3.0</td>\n    </tr>\n  </tbody>\n</table>\n<p>7974 rows × 1 columns</p>\n</div>"
     },
     "execution_count": 191,
     "metadata": {},
     "output_type": "execute_result"
    }
   ],
   "source": [
    "mean_votes= votec[['COUNTY_ID', 'TIMES_VOTED']].groupby('COUNTY_ID').mean()\n",
    "mean_votes"
   ],
   "metadata": {
    "collapsed": false,
    "pycharm": {
     "name": "#%%\n"
    }
   }
  },
  {
   "cell_type": "code",
   "execution_count": 194,
   "outputs": [
    {
     "name": "stderr",
     "output_type": "stream",
     "text": [
      "/home/christo/opt/anaconda3/envs/datascience/lib/python3.8/site-packages/seaborn/_decorators.py:36: FutureWarning: Pass the following variable as a keyword arg: x. From version 0.12, the only valid positional argument will be `data`, and passing other arguments without an explicit keyword will result in an error or misinterpretation.\n",
      "  warnings.warn(\n"
     ]
    },
    {
     "ename": "ValueError",
     "evalue": "Could not interpret input 'TIMES_VOTED'",
     "output_type": "error",
     "traceback": [
      "\u001B[0;31m---------------------------------------------------------------------------\u001B[0m",
      "\u001B[0;31mValueError\u001B[0m                                Traceback (most recent call last)",
      "\u001B[0;32m<ipython-input-194-e29f07237fc9>\u001B[0m in \u001B[0;36m<module>\u001B[0;34m\u001B[0m\n\u001B[1;32m      1\u001B[0m \u001B[0msns\u001B[0m\u001B[0;34m.\u001B[0m\u001B[0mset_theme\u001B[0m\u001B[0;34m(\u001B[0m\u001B[0mstyle\u001B[0m\u001B[0;34m=\u001B[0m\u001B[0;34m\"whitegrid\"\u001B[0m\u001B[0;34m)\u001B[0m\u001B[0;34m\u001B[0m\u001B[0;34m\u001B[0m\u001B[0m\n\u001B[0;32m----> 2\u001B[0;31m \u001B[0max\u001B[0m \u001B[0;34m=\u001B[0m \u001B[0msns\u001B[0m\u001B[0;34m.\u001B[0m\u001B[0mbarplot\u001B[0m\u001B[0;34m(\u001B[0m\u001B[0mmean_votes\u001B[0m\u001B[0;34m,\u001B[0m \u001B[0mx\u001B[0m\u001B[0;34m=\u001B[0m\u001B[0;34m'COUNTY_ID'\u001B[0m\u001B[0;34m,\u001B[0m \u001B[0my\u001B[0m\u001B[0;34m=\u001B[0m\u001B[0;34m'TIMES_VOTED'\u001B[0m\u001B[0;34m)\u001B[0m\u001B[0;34m\u001B[0m\u001B[0;34m\u001B[0m\u001B[0m\n\u001B[0m\u001B[1;32m      3\u001B[0m \u001B[0;34m\u001B[0m\u001B[0m\n\u001B[1;32m      4\u001B[0m \u001B[0;34m\u001B[0m\u001B[0m\n",
      "\u001B[0;32m~/opt/anaconda3/envs/datascience/lib/python3.8/site-packages/seaborn/_decorators.py\u001B[0m in \u001B[0;36minner_f\u001B[0;34m(*args, **kwargs)\u001B[0m\n\u001B[1;32m     44\u001B[0m             )\n\u001B[1;32m     45\u001B[0m         \u001B[0mkwargs\u001B[0m\u001B[0;34m.\u001B[0m\u001B[0mupdate\u001B[0m\u001B[0;34m(\u001B[0m\u001B[0;34m{\u001B[0m\u001B[0mk\u001B[0m\u001B[0;34m:\u001B[0m \u001B[0marg\u001B[0m \u001B[0;32mfor\u001B[0m \u001B[0mk\u001B[0m\u001B[0;34m,\u001B[0m \u001B[0marg\u001B[0m \u001B[0;32min\u001B[0m \u001B[0mzip\u001B[0m\u001B[0;34m(\u001B[0m\u001B[0msig\u001B[0m\u001B[0;34m.\u001B[0m\u001B[0mparameters\u001B[0m\u001B[0;34m,\u001B[0m \u001B[0margs\u001B[0m\u001B[0;34m)\u001B[0m\u001B[0;34m}\u001B[0m\u001B[0;34m)\u001B[0m\u001B[0;34m\u001B[0m\u001B[0;34m\u001B[0m\u001B[0m\n\u001B[0;32m---> 46\u001B[0;31m         \u001B[0;32mreturn\u001B[0m \u001B[0mf\u001B[0m\u001B[0;34m(\u001B[0m\u001B[0;34m**\u001B[0m\u001B[0mkwargs\u001B[0m\u001B[0;34m)\u001B[0m\u001B[0;34m\u001B[0m\u001B[0;34m\u001B[0m\u001B[0m\n\u001B[0m\u001B[1;32m     47\u001B[0m     \u001B[0;32mreturn\u001B[0m \u001B[0minner_f\u001B[0m\u001B[0;34m\u001B[0m\u001B[0;34m\u001B[0m\u001B[0m\n\u001B[1;32m     48\u001B[0m \u001B[0;34m\u001B[0m\u001B[0m\n",
      "\u001B[0;32m~/opt/anaconda3/envs/datascience/lib/python3.8/site-packages/seaborn/categorical.py\u001B[0m in \u001B[0;36mbarplot\u001B[0;34m(x, y, hue, data, order, hue_order, estimator, ci, n_boot, units, seed, orient, color, palette, saturation, errcolor, errwidth, capsize, dodge, ax, **kwargs)\u001B[0m\n\u001B[1;32m   3177\u001B[0m ):\n\u001B[1;32m   3178\u001B[0m \u001B[0;34m\u001B[0m\u001B[0m\n\u001B[0;32m-> 3179\u001B[0;31m     plotter = _BarPlotter(x, y, hue, data, order, hue_order,\n\u001B[0m\u001B[1;32m   3180\u001B[0m                           \u001B[0mestimator\u001B[0m\u001B[0;34m,\u001B[0m \u001B[0mci\u001B[0m\u001B[0;34m,\u001B[0m \u001B[0mn_boot\u001B[0m\u001B[0;34m,\u001B[0m \u001B[0munits\u001B[0m\u001B[0;34m,\u001B[0m \u001B[0mseed\u001B[0m\u001B[0;34m,\u001B[0m\u001B[0;34m\u001B[0m\u001B[0;34m\u001B[0m\u001B[0m\n\u001B[1;32m   3181\u001B[0m                           \u001B[0morient\u001B[0m\u001B[0;34m,\u001B[0m \u001B[0mcolor\u001B[0m\u001B[0;34m,\u001B[0m \u001B[0mpalette\u001B[0m\u001B[0;34m,\u001B[0m \u001B[0msaturation\u001B[0m\u001B[0;34m,\u001B[0m\u001B[0;34m\u001B[0m\u001B[0;34m\u001B[0m\u001B[0m\n",
      "\u001B[0;32m~/opt/anaconda3/envs/datascience/lib/python3.8/site-packages/seaborn/categorical.py\u001B[0m in \u001B[0;36m__init__\u001B[0;34m(self, x, y, hue, data, order, hue_order, estimator, ci, n_boot, units, seed, orient, color, palette, saturation, errcolor, errwidth, capsize, dodge)\u001B[0m\n\u001B[1;32m   1582\u001B[0m                  errwidth, capsize, dodge):\n\u001B[1;32m   1583\u001B[0m         \u001B[0;34m\"\"\"Initialize the plotter.\"\"\"\u001B[0m\u001B[0;34m\u001B[0m\u001B[0;34m\u001B[0m\u001B[0m\n\u001B[0;32m-> 1584\u001B[0;31m         self.establish_variables(x, y, hue, data, orient,\n\u001B[0m\u001B[1;32m   1585\u001B[0m                                  order, hue_order, units)\n\u001B[1;32m   1586\u001B[0m         \u001B[0mself\u001B[0m\u001B[0;34m.\u001B[0m\u001B[0mestablish_colors\u001B[0m\u001B[0;34m(\u001B[0m\u001B[0mcolor\u001B[0m\u001B[0;34m,\u001B[0m \u001B[0mpalette\u001B[0m\u001B[0;34m,\u001B[0m \u001B[0msaturation\u001B[0m\u001B[0;34m)\u001B[0m\u001B[0;34m\u001B[0m\u001B[0;34m\u001B[0m\u001B[0m\n",
      "\u001B[0;32m~/opt/anaconda3/envs/datascience/lib/python3.8/site-packages/seaborn/categorical.py\u001B[0m in \u001B[0;36mestablish_variables\u001B[0;34m(self, x, y, hue, data, orient, order, hue_order, units)\u001B[0m\n\u001B[1;32m    151\u001B[0m                 \u001B[0;32mif\u001B[0m \u001B[0misinstance\u001B[0m\u001B[0;34m(\u001B[0m\u001B[0mvar\u001B[0m\u001B[0;34m,\u001B[0m \u001B[0mstr\u001B[0m\u001B[0;34m)\u001B[0m\u001B[0;34m:\u001B[0m\u001B[0;34m\u001B[0m\u001B[0;34m\u001B[0m\u001B[0m\n\u001B[1;32m    152\u001B[0m                     \u001B[0merr\u001B[0m \u001B[0;34m=\u001B[0m \u001B[0;34m\"Could not interpret input '{}'\"\u001B[0m\u001B[0;34m.\u001B[0m\u001B[0mformat\u001B[0m\u001B[0;34m(\u001B[0m\u001B[0mvar\u001B[0m\u001B[0;34m)\u001B[0m\u001B[0;34m\u001B[0m\u001B[0;34m\u001B[0m\u001B[0m\n\u001B[0;32m--> 153\u001B[0;31m                     \u001B[0;32mraise\u001B[0m \u001B[0mValueError\u001B[0m\u001B[0;34m(\u001B[0m\u001B[0merr\u001B[0m\u001B[0;34m)\u001B[0m\u001B[0;34m\u001B[0m\u001B[0;34m\u001B[0m\u001B[0m\n\u001B[0m\u001B[1;32m    154\u001B[0m \u001B[0;34m\u001B[0m\u001B[0m\n\u001B[1;32m    155\u001B[0m             \u001B[0;31m# Figure out the plotting orientation\u001B[0m\u001B[0;34m\u001B[0m\u001B[0;34m\u001B[0m\u001B[0;34m\u001B[0m\u001B[0m\n",
      "\u001B[0;31mValueError\u001B[0m: Could not interpret input 'TIMES_VOTED'"
     ]
    }
   ],
   "source": [
    "sns.set_theme(style=\"whitegrid\")\n",
    "ax = sns.barplot(mean_votes, x='COUNTY_ID', y='TIMES_VOTED')\n"
   ],
   "metadata": {
    "collapsed": false,
    "pycharm": {
     "name": "#%%\n"
    }
   }
  },
  {
   "cell_type": "code",
   "execution_count": 195,
   "outputs": [
    {
     "data": {
      "text/plain": "0        (44.0, 51.0]\n1        (57.0, 62.0]\n2        (62.0, 68.0]\n3        (17.0, 26.0]\n4        (68.0, 75.0]\n            ...      \n7981     (38.0, 44.0]\n7982    (75.0, 120.0]\n7983     (38.0, 44.0]\n7984     (68.0, 75.0]\n7985     (44.0, 51.0]\nName: CURRENT_AGE, Length: 7986, dtype: category\nCategories (10, interval[float64]): [(17.0, 26.0] < (26.0, 32.0] < (32.0, 38.0] < (38.0, 44.0] ... (57.0, 62.0] < (62.0, 68.0] < (68.0, 75.0] < (75.0, 120.0]]"
     },
     "execution_count": 195,
     "metadata": {},
     "output_type": "execute_result"
    }
   ],
   "source": [
    "votec['DATE_OF_BIRTH'] = votec['DATE_OF_BIRTH'].astype('datetime64[ns]')\n",
    "votec['DATE_OF_BIRTH'] = pd.DatetimeIndex(votec['DATE_OF_BIRTH'])\n",
    "votec['CURRENT_AGE'] = 2021 - pd.DatetimeIndex(votec['DATE_OF_BIRTH']).year\n",
    "pd.qcut(votec['CURRENT_AGE'], q = 10, precision=0)"
   ],
   "metadata": {
    "collapsed": false,
    "pycharm": {
     "name": "#%%\n"
    }
   }
  },
  {
   "cell_type": "code",
   "execution_count": 201,
   "outputs": [
    {
     "data": {
      "text/plain": "7982"
     },
     "execution_count": 201,
     "metadata": {},
     "output_type": "execute_result"
    }
   ],
   "source": [
    "# remove people over 100yo - not stat sig\n",
    "votec = votec.loc[votec['CURRENT_AGE'] < 100]\n",
    "len(votec)"
   ],
   "metadata": {
    "collapsed": false,
    "pycharm": {
     "name": "#%%\n"
    }
   }
  },
  {
   "cell_type": "code",
   "execution_count": 206,
   "outputs": [
    {
     "data": {
      "text/plain": "Timestamp('2020-11-03 00:00:00')"
     },
     "execution_count": 206,
     "metadata": {},
     "output_type": "execute_result"
    }
   ],
   "source": [
    "pd.to_datetime('11/03/2020')"
   ],
   "metadata": {
    "collapsed": false,
    "pycharm": {
     "name": "#%%\n"
    }
   }
  },
  {
   "cell_type": "code",
   "execution_count": 220,
   "outputs": [],
   "source": [
    "# figure out age of each voter at each election\n",
    "# ex. col GENERAL-11/03/2020\n",
    "votec['DOB'] = pd.DatetimeIndex(votec['DATE_OF_BIRTH'])\n",
    "def age_at(d, dob):\n",
    "    return (pd.to_datetime(d.split('-')[1]) - dob) / np.timedelta64(1, 'Y')\n",
    "for et, ec in elec_cols.items():\n",
    "    for c in ec:\n",
    "        votec[f\"{c}-AGE\"] = votec[['DOB']].apply(lambda x: age_at(c, x))"
   ],
   "metadata": {
    "collapsed": false,
    "pycharm": {
     "name": "#%%\n"
    }
   }
  },
  {
   "cell_type": "code",
   "execution_count": 261,
   "outputs": [
    {
     "data": {
      "text/plain": "[('SPECIAL', '05/08/2001', 48.31930503190604, 48.5357446791615),\n ('SPECIAL', '05/06/2003', 50.04782957219755, 50.5150476484771),\n ('SPECIAL', '02/08/2005', 49.85176571481865, 51.03755959009661),\n ('SPECIAL', '02/07/2006', 50.468307307356945, 52.18432502606716),\n ('PRIMARY', '03/07/2000', 46.48219395955489, 47.20447747682539),\n ('PRIMARY', '05/07/2002', 49.42709801649764, 50.09880486297851),\n ('PRIMARY', '03/02/2004', 49.39044810157837, 50.06250288806307),\n ('PRIMARY', '05/03/2005', 50.09325141242128, 51.29630165402167),\n ('PRIMARY', '09/13/2005', 47.88480315787814, 48.583899085962784),\n ('PRIMARY', '05/02/2006', 51.73634035430893, 52.398475977792394),\n ('PRIMARY', '05/08/2007', 52.730060145809304, 53.5463982257878),\n ('PRIMARY', '09/11/2007', 51.083086677246726, 54.766353860791114),\n ('PRIMARY', '11/06/2007', 53.41023892123505, 54.68635564043067),\n ('PRIMARY', '03/04/2008', 49.34849387476123, 50.730156050057815),\n ('PRIMARY', '10/14/2008', nan, nan),\n ('PRIMARY', '05/05/2009', 53.14448010787549, 54.332189651426276),\n ('PRIMARY', '09/08/2009', 57.911359316542885, 58.589277309313836),\n ('PRIMARY', '09/15/2009', 49.01873176843066, 49.972403141872746),\n ('PRIMARY', '09/29/2009', nan, nan),\n ('PRIMARY', '05/04/2010', 55.40118016446193, 56.196552860436775),\n ('PRIMARY', '07/13/2010', 63.210059070343675, 63.210059070343675),\n ('PRIMARY', '09/07/2010', 58.58534608572806, 59.29448536637596),\n ('PRIMARY', '05/03/2011', 53.4322847388824, 54.61298005149901),\n ('PRIMARY', '09/13/2011', 55.43010074519962, 55.89437154767038),\n ('PRIMARY', '03/06/2012', 54.9219261767774, 56.16732290397253),\n ('PRIMARY', '05/07/2013', 55.765940802250924, 56.50644158500265),\n ('PRIMARY', '09/10/2013', 53.49826485143432, 57.40610690157909),\n ('PRIMARY', '10/01/2013', nan, nan),\n ('PRIMARY', '05/06/2014', 58.719066741075345, 59.491504630797834),\n ('PRIMARY', '05/05/2015', 58.73560688854638, 59.659124425029916),\n ('PRIMARY', '09/15/2015', 54.51011797560766, 54.51011797560766),\n ('PRIMARY', '03/15/2016', 53.66229524667127, 54.35976131685554),\n ('PRIMARY', '09/13/2016', 61.17031835013724, 61.17031835013724),\n ('PRIMARY', '05/02/2017', 59.22006277537276, 60.26822319262945),\n ('PRIMARY', '09/12/2017', 61.850414450673185, 62.056929642634685),\n ('PRIMARY', '05/08/2018', 60.05617807712684, 60.38658405187332),\n ('PRIMARY', '05/07/2019', 60.613907967717, 62.3745713813565),\n ('PRIMARY', '09/10/2019', 67.56789438980039, 67.56789438980039),\n ('PRIMARY', '03/17/2020', 59.09778600753491, 59.40544289379522),\n ('GENERAL', '11/07/2000', 44.30776711441836, 45.42257757799288),\n ('GENERAL', '11/06/2001', 47.94607110476297, 48.57405645143459),\n ('GENERAL', '11/05/2002', 47.94530520854593, 48.41907498485906),\n ('GENERAL', '11/04/2003', 48.665721947620035, 49.039837433522536),\n ('GENERAL', '11/02/2004', 44.93499743405225, 47.01753975356335),\n ('GENERAL', '11/08/2005', 49.917443445076785, 50.69963231080918),\n ('GENERAL', '11/07/2006', 48.93880477804027, 50.06969644871377),\n ('GENERAL', '11/06/2007', 51.47576833954704, 52.37719803387294),\n ('GENERAL', '12/11/2007', 54.7907994590678, 55.64704728137242),\n ('GENERAL', '11/04/2008', 46.68281826012401, 49.33994640606762),\n ('GENERAL', '11/18/2008', nan, nan),\n ('GENERAL', '11/03/2009', 52.12510272785369, 53.00281853251006),\n ('GENERAL', '11/02/2010', 51.847009844416036, 52.96235551808328),\n ('GENERAL', '11/08/2011', 52.48726265903049, 53.978547712376944),\n ('GENERAL', '11/06/2012', 49.07838311501123, 52.38210749139226),\n ('GENERAL', '11/05/2013', 55.90688580751101, 57.13322646606698),\n ('GENERAL', '11/04/2014', 56.10774874341921, 57.06112891964277),\n ('GENERAL', '11/03/2015', 54.50082771758286, 56.06173722695853),\n ('GENERAL', '06/07/2016', 66.10539573023402, 66.10539573023402),\n ('GENERAL', '11/08/2016', 51.01610768508624, 54.92763502536341),\n ('GENERAL', '11/07/2017', 58.22235711280456, 59.12002220601064),\n ('GENERAL', '08/07/2018', 56.01098532534496, 56.350911374628495),\n ('GENERAL', '11/06/2018', 54.0760465309941, 57.15145713945846),\n ('GENERAL', '11/05/2019', 58.292543521639246, 60.02173537452643),\n ('GENERAL', '11/03/2020', 52.46574145357569, 57.98150151749808)]"
     },
     "execution_count": 261,
     "metadata": {},
     "output_type": "execute_result"
    }
   ],
   "source": [
    "mean_ages = []\n",
    "for et, ec in elec_cols.items():\n",
    "    for c in ec:\n",
    "        mean_ages.append(tuple(c.split('-')) + (votec.loc[votec[c].notna(), f\"{c}-AGE\"].mean(), votec.loc[(votec[c].notna() & votec['PARTY_AFFILIATION'].notna()), f\"{c}-AGE\"].mean()))\n",
    "mean_ages"
   ],
   "metadata": {
    "collapsed": false,
    "pycharm": {
     "name": "#%%\n"
    }
   }
  },
  {
   "cell_type": "code",
   "execution_count": 273,
   "outputs": [],
   "source": [
    "mean_voter_age = pd.DataFrame(mean_ages)\n",
    "mean_voter_age.columns = ['election_type', 'election_date', 'mean_voter_age', 'mean_party_voter_age']\n",
    "mean_voter_age['election_date'] = pd.to_datetime( mean_voter_age['election_date'], format='%m/%d/%Y')\n",
    "\n",
    "mean_voter_age = mean_voter_age.sort_values(by=['election_date']).reset_index(drop=True)"
   ],
   "metadata": {
    "collapsed": false,
    "pycharm": {
     "name": "#%%\n"
    }
   }
  },
  {
   "cell_type": "code",
   "execution_count": 275,
   "outputs": [
    {
     "data": {
      "text/plain": "<Figure size 432x288 with 1 Axes>",
      "image/png": "[encoded data removed]"
     },
     "metadata": {},
     "output_type": "display_data"
    }
   ],
   "source": [
    "sns.set_theme(style=\"whitegrid\")\n",
    "ax = sns.boxplot(x='election_date', y='mean_voter_age', data=mean_voter_age, orient=\"v\")\n",
    "# ax.set_xticklabels(labels=mean_voter_age['election_date'], rotation=60)"
   ],
   "metadata": {
    "collapsed": false,
    "pycharm": {
     "name": "#%%\n"
    }
   }
  }
 ],
 "metadata": {
  "kernelspec": {
   "display_name": "Python 3",
   "language": "python",
   "name": "python3"
  },
  "language_info": {
   "codemirror_mode": {
    "name": "ipython",
    "version": 2
   },
   "file_extension": ".py",
   "mimetype": "text/x-python",
   "name": "python",
   "nbconvert_exporter": "python",
   "pygments_lexer": "ipython2",
   "version": "2.7.6"
  }
 },
 "nbformat": 4,
 "nbformat_minor": 0
}